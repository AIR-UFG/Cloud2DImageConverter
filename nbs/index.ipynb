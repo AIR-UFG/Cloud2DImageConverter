{
 "cells": [
  {
   "cell_type": "markdown",
   "id": "0e2b3555-5a41-4599-8c6e-0de570c732c5",
   "metadata": {},
   "source": [
    "# Cloud2DImageConverter\n",
    "\n",
    "> This repository aims to transform point clouds from the Semantic KITTI dataset into 2D images using spherical projections."
   ]
  },
  {
   "cell_type": "markdown",
   "id": "802682e0-fa13-402c-8547-9808566c9224",
   "metadata": {},
   "source": [
    "## Install"
   ]
  },
  {
   "cell_type": "markdown",
   "id": "ddd6877a-9d96-45f9-9705-f2dad267708e",
   "metadata": {},
   "source": [
    "First, install the nbdev."
   ]
  },
  {
   "cell_type": "markdown",
   "id": "61bb073a-a9bc-495d-8231-744090780b8e",
   "metadata": {},
   "source": [
    "```sh\n",
    "pip install nbdev\n",
    "```"
   ]
  },
  {
   "cell_type": "markdown",
   "id": "4ba04b32-e703-4bff-8ae7-712d307bf089",
   "metadata": {},
   "source": [
    "Now, clone the repository."
   ]
  },
  {
   "cell_type": "markdown",
   "id": "c6014e3b-ed0e-413e-8870-72a9bc494273",
   "metadata": {},
   "source": [
    "```sh\n",
    "git clone https://github.com/alunos-pfc/Cloud2DImageConverter.git\n",
    "```"
   ]
  },
  {
   "cell_type": "markdown",
   "id": "64cc3591-9188-4f62-9b7c-e93233a48c4c",
   "metadata": {},
   "source": [
    "Enter the cloned repository and run."
   ]
  },
  {
   "cell_type": "markdown",
   "id": "466bec79-2e33-4c60-afb9-ee2a24b99997",
   "metadata": {},
   "source": [
    "```sh\n",
    "nbdev export\n",
    "```"
   ]
  },
  {
   "cell_type": "markdown",
   "id": "0eca2268-e8fc-4170-a5c2-9093b1e76ff7",
   "metadata": {},
   "source": [
    "Lastly, install the modules."
   ]
  },
  {
   "cell_type": "markdown",
   "id": "7bf3a2af-6a4a-43c6-86fd-60ce04b834e1",
   "metadata": {},
   "source": [
    "```sh\n",
    "pip install -e '.[dev]'\n",
    "```"
   ]
  },
  {
   "cell_type": "markdown",
   "id": "bc996c1a-a537-41f4-af54-10b4f555e3c7",
   "metadata": {},
   "source": [
    "## How to use"
   ]
  },
  {
   "cell_type": "markdown",
   "id": "9664bcf2-7ca9-403d-8266-74d6ae8c931a",
   "metadata": {},
   "source": [
    "Initialize jupyter lab, and run the **00_data** and the **01_spherical_projections** notebooks."
   ]
  },
  {
   "cell_type": "markdown",
   "id": "4260ca35-c332-4b66-a3a9-9d364d17a6fd",
   "metadata": {},
   "source": [
    "Now, use the **02_image_generator** notebook to generate the images. For this, you'll need to adjust the following hyperparameters:\n",
    "\n",
    "* FOLDER_PATH: The path to the sequences, for example, \"../point_clouds/semantic_kitti/\". The script will look for the *velodyne* and *labels* folder, as in the Semantic KITTI format.\n",
    "* batch_size: The number of images that will be loaded in each iteration. For 16GB of RAM, aim for a size around 500."
   ]
  },
  {
   "cell_type": "markdown",
   "id": "a82c8574-8b2a-4fbf-9967-368818735856",
   "metadata": {},
   "source": [
    "An output folder will be created at *Cloud2DImageConverter/results*, containing the reflectance, depth, and label images. It's important to note that this folder will be removed and recreated each time you run the script, so remember to save your images."
   ]
  }
 ],
 "metadata": {
  "kernelspec": {
   "display_name": "python3",
   "language": "python",
   "name": "python3"
  }
 },
 "nbformat": 4,
 "nbformat_minor": 5
}
