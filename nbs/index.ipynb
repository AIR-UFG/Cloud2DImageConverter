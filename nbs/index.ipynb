{
 "cells": [
  {
   "cell_type": "markdown",
   "id": "0e2b3555-5a41-4599-8c6e-0de570c732c5",
   "metadata": {},
   "source": [
    "# Cloud2DImageConverter\n"
   ]
  },
  {
   "cell_type": "markdown",
   "id": "5002b4d9-e347-4aa4-8137-51e68ac595f7",
   "metadata": {},
   "source": [
    "This repository aims to transform point clouds from the Semantic KITTI dataset into 2D images using spherical projections."
   ]
  },
  {
   "cell_type": "markdown",
   "id": "802682e0-fa13-402c-8547-9808566c9224",
   "metadata": {},
   "source": [
    "## Installing"
   ]
  },
  {
   "cell_type": "markdown",
   "id": "4ba04b32-e703-4bff-8ae7-712d307bf089",
   "metadata": {},
   "source": [
    "First, clone the repository."
   ]
  },
  {
   "cell_type": "markdown",
   "id": "c6014e3b-ed0e-413e-8870-72a9bc494273",
   "metadata": {},
   "source": [
    "```sh\n",
    "git clone https://github.com/alunos-pfc/Cloud2DImageConverter.git\n",
    "```"
   ]
  },
  {
   "cell_type": "markdown",
   "id": "64cc3591-9188-4f62-9b7c-e93233a48c4c",
   "metadata": {},
   "source": [
    "Enter the cloned repository."
   ]
  },
  {
   "cell_type": "markdown",
   "id": "f187a4fc-9112-4762-a191-9868069bdaa6",
   "metadata": {},
   "source": [
    "```sh\n",
    "cd Cloud2DImageConverter\n",
    "```"
   ]
  },
  {
   "cell_type": "markdown",
   "id": "0eca2268-e8fc-4170-a5c2-9093b1e76ff7",
   "metadata": {},
   "source": [
    "Install the packeges."
   ]
  },
  {
   "cell_type": "markdown",
   "id": "7bf3a2af-6a4a-43c6-86fd-60ce04b834e1",
   "metadata": {},
   "source": [
    "```sh\n",
    "pip install -e '.[dev]'\n",
    "```"
   ]
  },
  {
   "cell_type": "markdown",
   "id": "bc996c1a-a537-41f4-af54-10b4f555e3c7",
   "metadata": {},
   "source": [
    "## How to use"
   ]
  },
  {
   "cell_type": "markdown",
   "id": "457c38fe-ac3e-422d-b54b-7db4f2809bb5",
   "metadata": {},
   "source": [
    "Access the tutorials folder and follow the steps outlined in the [Spherical Projection Notebook](/tutorials/Spherical_Projection.ipynb). If you prefer to use it on Google Colab, follow this [Colab Notebook](https://colab.research.google.com/drive/1jdMYCYVA_Vkrkh8uYYqcPDdeqvaFjZgE?usp=sharing)."
   ]
  }
 ],
 "metadata": {
  "kernelspec": {
   "display_name": "python3",
   "language": "python",
   "name": "python3"
  }
 },
 "nbformat": 4,
 "nbformat_minor": 5
}
