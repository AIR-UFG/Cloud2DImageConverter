{
 "cells": [
  {
   "cell_type": "markdown",
   "id": "affc7b4e-6791-4fe5-81a0-c0903581213c",
   "metadata": {},
   "source": [
    "# Spherical Projections"
   ]
  },
  {
   "cell_type": "code",
   "execution_count": null,
   "id": "9af2121d-000d-43a8-a6f8-d68348673980",
   "metadata": {},
   "outputs": [],
   "source": [
    "#| default_exp spherical_projections"
   ]
  },
  {
   "cell_type": "code",
   "execution_count": null,
   "id": "9a6fe4ba-220b-4ed1-8325-36510bd2323a",
   "metadata": {},
   "outputs": [],
   "source": [
    "#| hide\n",
    "from nbdev.showdoc import *"
   ]
  },
  {
   "cell_type": "code",
   "execution_count": null,
   "id": "2dd58974-6813-4c6c-ade7-2fa78662049a",
   "metadata": {},
   "outputs": [],
   "source": [
    "#| export\n",
    "import matplotlib.pyplot as plt\n",
    "import numpy as np"
   ]
  },
  {
   "cell_type": "markdown",
   "id": "387a3a49-8532-4f5c-a929-396c8b1f555b",
   "metadata": {},
   "source": [
    "Realiza a conversão de uma point cloud 3d para o plano 2d através da técnica de projeção esférica.\n",
    "\n",
    "* Args:\n",
    "    * array_npy: array numpy contendo os pontos da imagem, shape precisa ser (N,4).\n",
    "    * val: define a lista de pixel_values, responsável por dar um valor para cada ponto.\n",
    "* Return:\n",
    "    * points: Dicionário contendo os novos pontos já projetados no plano 2d."
   ]
  },
  {
   "cell_type": "code",
   "execution_count": null,
   "id": "f8ecdc07-1d2c-4865-b64c-ed3d276931e7",
   "metadata": {},
   "outputs": [],
   "source": [
    "#| export\n",
    "def spherical_projection_1(array_npy, h_res, v_res, v_fov, y_fudge, val):\n",
    "    x_lidar = array_npy[:, 0]\n",
    "    y_lidar = array_npy[:, 1]\n",
    "    z_lidar = array_npy[:, 2]\n",
    "    r_lidar = array_npy[:, 3] # Reflectance\n",
    "    if array_npy.shape[-1] >= 5:\n",
    "        label = array_npy[:, 4]\n",
    "    \n",
    "    # Distance relative to origin when looked from top\n",
    "    d_lidar = np.sqrt(x_lidar ** 2 + y_lidar ** 2)\n",
    "\n",
    "    v_fov_total = -v_fov[0] + v_fov[1]\n",
    "\n",
    "    # Convert to Radians\n",
    "    v_res_rad = v_res * (np.pi/180)\n",
    "    h_res_rad = h_res * (np.pi/180)\n",
    "\n",
    "    # PROJECT INTO IMAGE COORDINATES\n",
    "    x_img = np.arctan2(-y_lidar, x_lidar)/ h_res_rad\n",
    "    y_img = np.arctan2(z_lidar, d_lidar)/ v_res_rad\n",
    "    \n",
    "    # SHIFT COORDINATES TO MAKE 0,0 THE MINIMUM\n",
    "    x_min = -360.0 / h_res / 2  # Theoretical min x value based on sensor specs\n",
    "    x_img -= x_min              # Shift\n",
    "    x_max = 360.0 / h_res       # Theoretical max x value after shifting\n",
    "\n",
    "    y_min = v_fov[0] / v_res    # theoretical min y value based on sensor specs\n",
    "    y_img -= y_min              # Shift\n",
    "    y_max = v_fov_total / v_res # Theoretical max x value after shifting\n",
    "\n",
    "    y_max += y_fudge            # Fudge factor if the calculations based on\n",
    "                                # spec sheet do not match the range of\n",
    "                                # angles collected by in the data.\n",
    "\n",
    "    if val == \"reflectance\":\n",
    "        pixel_values = r_lidar\n",
    "    elif val == \"height\":\n",
    "        pixel_values = z_lidar\n",
    "    elif val == \"label\":\n",
    "        pixel_values = label\n",
    "    else:\n",
    "        pixel_values = -d_lidar\n",
    "\n",
    "    points = {\n",
    "        'x_img': x_img,\n",
    "        'y_img': y_img,\n",
    "        'x_max': x_max,\n",
    "        'y_max': y_max,\n",
    "        'val': val,\n",
    "        'pixel_values': pixel_values\n",
    "    }\n",
    "    \n",
    "    return points"
   ]
  },
  {
   "cell_type": "code",
   "execution_count": null,
   "id": "bcabe10f-ec3a-4270-a508-c4bfae426e8f",
   "metadata": {},
   "outputs": [],
   "source": [
    "#| export\n",
    "'''\n",
    "- Para a projeção esférica são lidos as coordenadas x,y,z de cada ponto\n",
    "- R é a distância do laser até a origem (LiDAR)\n",
    "- desvio_eixoY é o valor no plano xy e o ângulo com range de [FOV_UP, FOV_DOWN] para max/min\n",
    "- desvio_eixoX é o valor no plano xz com range de [-pi,pi] por causa da função arctan2\n",
    "- É necessário normalizar os desvios para pegar os pontos na distorção para 2D\n",
    "- Como o modelo do LiDAR utilizado é o Velodyne HDL 64-E, a imagem deve ser 64x1024\n",
    "- Retorna o ponto (normal_Y,normal_X, intensidade) da projeção\n",
    "'''\n",
    "\n",
    "def spherical_projection_2(point_cloud):\n",
    "    x_coord = point_cloud[:, 0]\n",
    "    y_coord = point_cloud[:, 1]\n",
    "    z_coord = point_cloud[:, 2]\n",
    "\n",
    "    R = np.sqrt(x_coord**2 + y_coord**2 + z_coord**2)\n",
    "\n",
    "    desvio_eixoY = np.arcsin(z_coord/R)\n",
    "    desvio_eixoX = np.arctan2(y_coord, x_coord)\n",
    "\n",
    "    FOV_UP = np.max(desvio_eixoY)\n",
    "    FOV_DOWN = np.min(desvio_eixoY)\n",
    "    FOV = FOV_UP + abs(FOV_DOWN)\n",
    "\n",
    "    normal_Y = 1.0 - ((desvio_eixoY + abs(FOV_DOWN))/FOV)\n",
    "    normal_X = 0.5 * ((desvio_eixoX/np.pi) + 1)\n",
    "\n",
    "    return normal_Y*64, normal_X*1024, point_cloud[:, 3], point_cloud[:, 4]"
   ]
  },
  {
   "cell_type": "code",
   "execution_count": null,
   "id": "39250c57-aabb-4321-8fbd-a9d4965b784b",
   "metadata": {},
   "outputs": [],
   "source": [
    "#| export\n",
    "'''\n",
    "- A imagem é formada no plano zy\n",
    "- É necessário truncar os valores para servirem como índice na matriz\n",
    "- Retorna a intensidade de cada ponto para formar a imagem\n",
    "'''\n",
    "def create_ImageMatrix(normal_Y, normal_X, intensity, label):\n",
    "    truncated_Y = np.minimum(63, np.round(normal_Y))\n",
    "    index_Y = np.maximum(0, truncated_Y).astype(int)\n",
    "    \n",
    "    truncated_X = np.minimum(1023, np.round(normal_X))\n",
    "    index_X = np.maximum(0, truncated_X).astype(int)\n",
    "    \n",
    "    image_matrix_no_label = np.zeros((64, 1024))\n",
    "    image_matrix_with_label = np.zeros((64, 1024))\n",
    "    \n",
    "    for x, y, i in zip(index_X, index_Y, intensity):\n",
    "        image_matrix_no_label[y, x] = i\n",
    "    \n",
    "    for x, y, i in zip(index_X, index_Y, label):\n",
    "        image_matrix_with_label[y, x] = i\n",
    "        \n",
    "    return image_matrix_no_label, image_matrix_with_label"
   ]
  },
  {
   "cell_type": "code",
   "execution_count": null,
   "id": "8ee88cdf-0500-4aaa-ab24-c9d8e4411603",
   "metadata": {},
   "outputs": [],
   "source": [
    "#| hide\n",
    "import nbdev; nbdev.nbdev_export()"
   ]
  }
 ],
 "metadata": {
  "kernelspec": {
   "display_name": "python3",
   "language": "python",
   "name": "python3"
  }
 },
 "nbformat": 4,
 "nbformat_minor": 5
}
