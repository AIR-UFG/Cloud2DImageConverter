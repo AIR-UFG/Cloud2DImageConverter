{
 "cells": [
  {
   "cell_type": "markdown",
   "id": "affc7b4e-6791-4fe5-81a0-c0903581213c",
   "metadata": {},
   "source": [
    "# Spherical Projection"
   ]
  },
  {
   "cell_type": "code",
   "execution_count": 1,
   "id": "9af2121d-000d-43a8-a6f8-d68348673980",
   "metadata": {},
   "outputs": [],
   "source": [
    "#| default_exp spherical_projection"
   ]
  },
  {
   "cell_type": "code",
   "execution_count": 2,
   "id": "9a6fe4ba-220b-4ed1-8325-36510bd2323a",
   "metadata": {},
   "outputs": [],
   "source": [
    "#| hide\n",
    "from nbdev.showdoc import *"
   ]
  },
  {
   "cell_type": "code",
   "execution_count": 3,
   "id": "4bdc574d-cb2a-454a-9072-6f376c22fc94",
   "metadata": {},
   "outputs": [],
   "source": [
    "#| export\n",
    "from Cloud2DImageConverter import data"
   ]
  },
  {
   "cell_type": "code",
   "execution_count": 4,
   "id": "2dd58974-6813-4c6c-ade7-2fa78662049a",
   "metadata": {},
   "outputs": [],
   "source": [
    "#| export\n",
    "import matplotlib.pyplot as plt\n",
    "import numpy as np"
   ]
  },
  {
   "cell_type": "code",
   "execution_count": 5,
   "id": "780145f2-17df-4de0-9d0e-dd83c43ab28c",
   "metadata": {},
   "outputs": [],
   "source": [
    "#| export\n",
    "color_map = dict(data.color_map)"
   ]
  },
  {
   "cell_type": "markdown",
   "id": "6e3c46a7-48a5-4fa5-8a6f-63e42b980616",
   "metadata": {},
   "source": [
    "A seguinte função realiza a projeção esférica com base no repositório "
   ]
  },
  {
   "cell_type": "code",
   "execution_count": 6,
   "id": "762214d1-423d-4295-9b4d-068bac15d116",
   "metadata": {},
   "outputs": [],
   "source": [
    "#| export\n",
    "def spherical_projection(point_cloud, proj_fov_up, proj_fov_down, proj_W, proj_H):\n",
    "    label_check = False\n",
    "    \n",
    "    # laser parameters\n",
    "    fov_up = proj_fov_up / 180.0 * np.pi      # field of view up in rad\n",
    "    fov_down = proj_fov_down / 180.0 * np.pi  # field of view down in rad\n",
    "    fov = abs(fov_down) + abs(fov_up)  # get field of view total in rad\n",
    "\n",
    "    # Remover pontos com NaN antes de processar\n",
    "    point_cloud = point_cloud[~np.isnan(point_cloud).any(axis=1)]\n",
    "\n",
    "    # get point_cloud components\n",
    "    scan_x = point_cloud[:, 0]\n",
    "    scan_y = point_cloud[:, 1]\n",
    "    scan_z = point_cloud[:, 2]\n",
    "    reflec = point_cloud[:, 3]\n",
    "\n",
    "    if point_cloud.shape[-1] == 5:\n",
    "        labels = point_cloud[:, 4]\n",
    "        label_check = True\n",
    "\n",
    "    R = np.sqrt(scan_x**2 + scan_y**2 + scan_z**2)\n",
    "    \n",
    "    # get angles of all points\n",
    "    yaw = -np.arctan2(scan_y, scan_x)\n",
    "    pitch = np.arcsin(scan_z / R)\n",
    "\n",
    "    # get projections in image coords\n",
    "    proj_x = 0.5 * (yaw / np.pi + 1.0)          # in [0.0, 1.0]\n",
    "    proj_y = 1.0 - (pitch + abs(fov_down)) / fov        # in [0.0, 1.0]\n",
    "\n",
    "    # scale to image size using angular resolution\n",
    "    proj_x *= proj_W                              # in [0.0, W]\n",
    "    proj_y *= proj_H                              # in [0.0, H]\n",
    "\n",
    "    # round and clamp for use as index\n",
    "    proj_x = np.floor(proj_x)\n",
    "    proj_x = np.minimum(proj_W - 1, proj_x)\n",
    "    proj_x = np.maximum(0, proj_x).astype(np.int32)   # in [0,W-1]\n",
    "\n",
    "    proj_y = np.floor(proj_y)\n",
    "    proj_y = np.minimum(proj_H - 1, proj_y)\n",
    "    proj_y = np.maximum(0, proj_y).astype(np.int32)   # in [0,H-1]\n",
    "\n",
    "    # setup the image matrix \n",
    "    image_matrix_reflectance = np.zeros((proj_H, proj_W))\n",
    "    image_matrix_depth = np.zeros((proj_H, proj_W))\n",
    "    image_matrix_mask = np.zeros((proj_H, proj_W))\n",
    "    \n",
    "    # reflectance matrix\n",
    "    for x, y, i in zip(proj_x, proj_y, reflec):\n",
    "        image_matrix_reflectance[y, x] = i\n",
    "\n",
    "    # depth matrix\n",
    "    for x, y, i in zip(proj_x, proj_y, R):\n",
    "        image_matrix_depth[y, x] = i\n",
    "        \n",
    "    # labels matrix\n",
    "    if label_check:\n",
    "        for x, y, i in zip(proj_x, proj_y, labels):\n",
    "            image_matrix_mask[y, x] = i\n",
    "    \n",
    "    return image_matrix_reflectance, image_matrix_depth, image_matrix_mask"
   ]
  },
  {
   "cell_type": "code",
   "execution_count": 7,
   "id": "59c69ff2-bcc5-4fce-8015-5b5444b86763",
   "metadata": {},
   "outputs": [],
   "source": [
    "#| export\n",
    "'''\n",
    "- Substitui as keys da matriz de label pela respectiva cor do dicionário color_map\n",
    "- Retorna a matriz de label no formato (64, 1024, 3)\n",
    "'''\n",
    "def colored_matrix_with_label(image_matrix_with_label):\n",
    "    colored_matrix =  np.empty(image_matrix_with_label.shape + (3,), dtype=np.uint8)\n",
    "    \n",
    "    for key, value in color_map.items():\n",
    "        indices = np.where(image_matrix_with_label == key)\n",
    "        colored_matrix[indices] = value\n",
    "    \n",
    "    image_matrix_with_label = colored_matrix\n",
    "\n",
    "    return image_matrix_with_label"
   ]
  },
  {
   "cell_type": "code",
   "execution_count": 8,
   "id": "8ee88cdf-0500-4aaa-ab24-c9d8e4411603",
   "metadata": {},
   "outputs": [],
   "source": [
    "#| hide\n",
    "import nbdev; nbdev.nbdev_export()"
   ]
  },
  {
   "cell_type": "code",
   "execution_count": null,
   "id": "d44b917a-5d00-467c-91d9-f6b71b07c507",
   "metadata": {},
   "outputs": [],
   "source": []
  },
  {
   "cell_type": "code",
   "execution_count": null,
   "id": "2133e5a2-dd7d-4903-8841-68053c6c76e7",
   "metadata": {},
   "outputs": [],
   "source": []
  }
 ],
 "metadata": {
  "kernelspec": {
   "display_name": "Python 3 (ipykernel)",
   "language": "python",
   "name": "python3"
  },
  "language_info": {
   "codemirror_mode": {
    "name": "ipython",
    "version": 3
   },
   "file_extension": ".py",
   "mimetype": "text/x-python",
   "name": "python",
   "nbconvert_exporter": "python",
   "pygments_lexer": "ipython3",
   "version": "3.10.12"
  }
 },
 "nbformat": 4,
 "nbformat_minor": 5
}
