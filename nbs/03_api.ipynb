{
 "cells": [
  {
   "cell_type": "code",
   "execution_count": null,
   "id": "9b6c57ec-2519-4b7c-91fe-dc898cd9aa6b",
   "metadata": {},
   "outputs": [],
   "source": [
    "#| default_exp api"
   ]
  },
  {
   "cell_type": "code",
   "execution_count": 1,
   "id": "5122ef38-98a1-46b8-9824-bfcd075d3e9d",
   "metadata": {},
   "outputs": [],
   "source": [
    "#| export\n",
    "from Cloud2DImageConverter import spherical_projection as sp\n",
    "from Cloud2DImageConverter import image_generator as ig\n",
    "from Cloud2DImageConverter import data\n",
    "from tqdm import tqdm\n",
    "from PIL import Image\n",
    "import numpy as np\n",
    "import shutil\n",
    "import os"
   ]
  },
  {
   "cell_type": "code",
   "execution_count": null,
   "id": "7e71057d-1814-45dc-bd02-643c60ae5cad",
   "metadata": {},
   "outputs": [],
   "source": [
    "#| export\n",
    "def run(data_path, results_path, batch_size=500, fov_up=3.0, fov_down=-25.0, width=1024, height=64, is_label=True):\n",
    "    velodyne_path = data_path+\"velodyne\"\n",
    "    label_path = data_path + \"labels\" if is_label else None\n",
    "    max_len = len(os.listdir(velodyne_path))\n",
    "    if batch_size > max_len: \n",
    "        batch_size = max_len-1\n",
    "\n",
    "    if not os.path.exists(results_path): \n",
    "        os.makedirs(results_path)\n",
    "        os.makedirs(results_path+\"reflectance\")\n",
    "        os.makedirs(results_path+\"depth\")\n",
    "        if is_label:\n",
    "            os.makedirs(results_path+\"segmentation_mask\")\n",
    "        print(f\"folder created at {results_path}\")\n",
    "\n",
    "    for batch in tqdm(range(batch_size, max_len, batch_size), desc=\"Batch:\"):\n",
    "        start, end = ig.define_range(batch, batch_size, max_len)\n",
    "        velodyne_list = sorted(os.listdir(velodyne_path))[start:end]\n",
    "        label_list = sorted(os.listdir(label_path))[start:end] if is_label else None\n",
    "        point_cloud = data.load_data(velodyne_path, velodyne_list, label_path, label_list)\n",
    "        projection_dict = ig.do_projection(point_cloud, fov_up, fov_down, width, height, is_label)\n",
    "        ig.create_images(projection_dict, results_path)"
   ]
  },
  {
   "cell_type": "code",
   "execution_count": null,
   "id": "5373cc3e-276c-4810-89d3-e5bab6ecd669",
   "metadata": {},
   "outputs": [],
   "source": [
    "#| export\n",
    "def color_matrix(matrix):\n",
    "    matrix = np.vectorize(data.learning_map_inv.get)(matrix)\n",
    "    colored_matrix =  np.empty(matrix.shape + (3,), dtype=np.uint8)\n",
    "    color_map = data.color_map.items()\n",
    "    for key, value in color_map:\n",
    "        indices = np.where(matrix == key)\n",
    "        colored_matrix[indices] = value\n",
    "    matrix = colored_matrix\n",
    "    return matrix"
   ]
  },
  {
   "cell_type": "markdown",
   "id": "af5f7fe3",
   "metadata": {},
   "source": [
    "Merge reflectance and depth images.\\\n",
    "Args:\n",
    "- origin_path: path to the folder containing _reflectance_ and _depth_ folders\n",
    "- destiny_path: path to save the merged images"
   ]
  },
  {
   "cell_type": "code",
   "execution_count": 10,
   "id": "7ed039a5",
   "metadata": {},
   "outputs": [],
   "source": [
    "#| export\n",
    "def merge_images(origin_path, destiny_path):\n",
    "    reflectance_path =  origin_path+\"reflectance/\"\n",
    "    depth_path = origin_path+\"depth/\"\n",
    "\n",
    "    if not os.path.exists(destiny_path): \n",
    "        os.makedirs(destiny_path)\n",
    "        print(f\"destiny folder created at {destiny_path}\")\n",
    "\n",
    "    for file_name in os.listdir(reflectance_path):\n",
    "        reflectance_image = Image.open(reflectance_path+file_name)\n",
    "        depth_image = Image.open(depth_path+file_name)\n",
    "\n",
    "        merged_image = np.dstack((np.array(reflectance_image), np.array(depth_image)))\n",
    "        merged_image = Image.fromarray(merged_image)\n",
    "\n",
    "        output_path = os.path.join(destiny_path, file_name)\n",
    "        merged_image.save(output_path)"
   ]
  },
  {
   "cell_type": "code",
   "execution_count": null,
   "id": "85ed45b5-8264-42a9-a2b6-a7cdf1e0fc9e",
   "metadata": {},
   "outputs": [],
   "source": [
    "#| export\n",
    "def split_aux(splited_list):\n",
    "    splited_array = np.array(splited_list)\n",
    "    splited_array = splited_array.reshape(16, 1024)\n",
    "    img = Image.fromarray(splited_array)\n",
    "    return img\n",
    "    \n",
    "def split_image(image):\n",
    "    list_1, list_2, list_3, list_4 = [[] for _ in range(4)]\n",
    "    for index, line in enumerate(np.array(image)):\n",
    "        if index % 4 == 0:\n",
    "            list_1.append(list(line))\n",
    "        if index % 4 == 1:\n",
    "            list_2.append(list(line))\n",
    "        if index % 4 == 2:\n",
    "            list_3.append(list(line))\n",
    "        if index % 4 == 3:\n",
    "            list_4.append(list(line))\n",
    "\n",
    "    img_1 = split_aux(list_1)\n",
    "    img_2 = split_aux(list_2)\n",
    "    img_3 = split_aux(list_3)\n",
    "    img_4 = split_aux(list_4)\n",
    "\n",
    "    return img_1, img_2, img_3, img_4"
   ]
  },
  {
   "cell_type": "code",
   "execution_count": 11,
   "id": "6cb2f464-195c-4fc1-8739-02466c1139ed",
   "metadata": {},
   "outputs": [],
   "source": [
    "#| hide\n",
    "import nbdev; nbdev.nbdev_export()"
   ]
  }
 ],
 "metadata": {
  "kernelspec": {
   "display_name": "python3",
   "language": "python",
   "name": "python3"
  },
  "language_info": {
   "codemirror_mode": {
    "name": "ipython",
    "version": 3
   },
   "file_extension": ".py",
   "mimetype": "text/x-python",
   "name": "python",
   "nbconvert_exporter": "python",
   "pygments_lexer": "ipython3",
   "version": "3.10.12"
  }
 },
 "nbformat": 4,
 "nbformat_minor": 5
}
