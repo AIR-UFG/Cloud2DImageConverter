{
 "cells": [
  {
   "cell_type": "code",
   "execution_count": null,
   "id": "9b6c57ec-2519-4b7c-91fe-dc898cd9aa6b",
   "metadata": {},
   "outputs": [],
   "source": [
    "#| default_exp api"
   ]
  },
  {
   "cell_type": "code",
   "execution_count": null,
   "id": "5122ef38-98a1-46b8-9824-bfcd075d3e9d",
   "metadata": {},
   "outputs": [],
   "source": [
    "#| export\n",
    "from Cloud2DImageConverter import spherical_projection as sp\n",
    "from Cloud2DImageConverter import image_generator as ig\n",
    "from Cloud2DImageConverter import data\n",
    "from tqdm import tqdm\n",
    "import numpy as np\n",
    "import shutil\n",
    "import os"
   ]
  },
  {
   "cell_type": "code",
   "execution_count": null,
   "id": "7e71057d-1814-45dc-bd02-643c60ae5cad",
   "metadata": {},
   "outputs": [],
   "source": [
    "#| export\n",
    "def run(data_path, results_path, batch_size=500, fov_up=3.0, fov_down=-25.0, width=1024, height=64, is_label=True):\n",
    "    velodyne_path = data_path+\"velodyne\"\n",
    "    label_path = data_path + \"labels\" if is_label else None\n",
    "    max_len = len(os.listdir(velodyne_path))\n",
    "    if batch_size > max_len: \n",
    "        batch_size = max_len-1\n",
    "\n",
    "    if os.path.exists(results_path): shutil.rmtree(results_path)\n",
    "    os.makedirs(results_path)\n",
    "    os.makedirs(results_path+\"reflectance\")\n",
    "    os.makedirs(results_path+\"depth\")\n",
    "    os.makedirs(results_path+\"segmentation_mask\")\n",
    "\n",
    "    for batch in tqdm(range(batch_size, max_len, batch_size), desc=\"Batch:\"):\n",
    "        start, end = ig.define_range(batch, batch_size, max_len)\n",
    "        velodyne_list = sorted(os.listdir(velodyne_path))[start:end]\n",
    "        label_list = sorted(os.listdir(label_path))[start:end] if is_label else None\n",
    "        point_cloud = data.load_data(velodyne_path, velodyne_list, label_path, label_list)\n",
    "        projection_dict = ig.do_projection(point_cloud, fov_up, fov_down, width, height, is_label)\n",
    "        ig.create_images(projection_dict, results_path)"
   ]
  },
  {
   "cell_type": "code",
   "execution_count": null,
   "id": "5373cc3e-276c-4810-89d3-e5bab6ecd669",
   "metadata": {},
   "outputs": [],
   "source": [
    "#| export\n",
    "def color_matrix(matrix):\n",
    "    matrix = np.vectorize(data.learning_map_inv.get)(matrix)\n",
    "    colored_matrix =  np.empty(matrix.shape + (3,), dtype=np.uint8)\n",
    "    color_map = data.color_map.items()\n",
    "    for key, value in color_map:\n",
    "        indices = np.where(matrix == key)\n",
    "        colored_matrix[indices] = value\n",
    "    matrix = colored_matrix\n",
    "    return matrix"
   ]
  },
  {
   "cell_type": "code",
   "execution_count": null,
   "id": "6cb2f464-195c-4fc1-8739-02466c1139ed",
   "metadata": {},
   "outputs": [],
   "source": [
    "#| hide\n",
    "import nbdev; nbdev.nbdev_export()"
   ]
  }
 ],
 "metadata": {
  "kernelspec": {
   "display_name": "python3",
   "language": "python",
   "name": "python3"
  }
 },
 "nbformat": 4,
 "nbformat_minor": 5
}
