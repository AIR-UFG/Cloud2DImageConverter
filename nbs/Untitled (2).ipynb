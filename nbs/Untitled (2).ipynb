{
 "cells": [
  {
   "cell_type": "code",
   "execution_count": null,
   "id": "2149c694-5f00-44f0-913b-375c2fdcaf98",
   "metadata": {},
   "outputs": [
    {
     "name": "stdout",
     "output_type": "stream",
     "text": [
      "Requirement already satisfied: semantic-kitti-api in /usr/local/lib/python3.10/dist-packages (0.1)\n",
      "Requirement already satisfied: numpy>=1.24.0 in /usr/local/lib/python3.10/dist-packages (from semantic-kitti-api) (1.26.2)\n",
      "Requirement already satisfied: glfw>=1.8.3 in /usr/local/lib/python3.10/dist-packages (from semantic-kitti-api) (2.6.4)\n",
      "Requirement already satisfied: PyYAML>=5.1.1 in /usr/lib/python3/dist-packages (from semantic-kitti-api) (5.4.1)\n",
      "Requirement already satisfied: vispy>=0.5.3 in /usr/local/lib/python3.10/dist-packages (from semantic-kitti-api) (0.14.1)\n",
      "Requirement already satisfied: imgui[glfw]>=1.0.0 in /usr/local/lib/python3.10/dist-packages (from semantic-kitti-api) (2.0.0)\n",
      "Requirement already satisfied: matplotlib>=2.2.3 in /usr/local/lib/python3.10/dist-packages (from semantic-kitti-api) (3.8.2)\n",
      "Requirement already satisfied: pyqt5>=5.8.1.1 in /usr/local/lib/python3.10/dist-packages (from semantic-kitti-api) (5.15.10)\n",
      "Requirement already satisfied: PyOpenGL>=3.1.0 in /usr/local/lib/python3.10/dist-packages (from semantic-kitti-api) (3.1.7)\n",
      "Requirement already satisfied: torch>=1.1.0 in /usr/local/lib/python3.10/dist-packages (from semantic-kitti-api) (2.1.2)\n",
      "Requirement already satisfied: packaging>=20.0 in /usr/local/lib/python3.10/dist-packages (from matplotlib>=2.2.3->semantic-kitti-api) (23.2)\n",
      "Requirement already satisfied: pillow>=8 in /usr/local/lib/python3.10/dist-packages (from matplotlib>=2.2.3->semantic-kitti-api) (10.1.0)\n",
      "Requirement already satisfied: python-dateutil>=2.7 in /usr/local/lib/python3.10/dist-packages (from matplotlib>=2.2.3->semantic-kitti-api) (2.8.2)\n",
      "Requirement already satisfied: contourpy>=1.0.1 in /usr/local/lib/python3.10/dist-packages (from matplotlib>=2.2.3->semantic-kitti-api) (1.2.0)\n",
      "Requirement already satisfied: kiwisolver>=1.3.1 in /usr/local/lib/python3.10/dist-packages (from matplotlib>=2.2.3->semantic-kitti-api) (1.4.5)\n",
      "Requirement already satisfied: pyparsing>=2.3.1 in /usr/lib/python3/dist-packages (from matplotlib>=2.2.3->semantic-kitti-api) (2.4.7)\n",
      "Requirement already satisfied: cycler>=0.10 in /usr/local/lib/python3.10/dist-packages (from matplotlib>=2.2.3->semantic-kitti-api) (0.12.1)\n",
      "Requirement already satisfied: fonttools>=4.22.0 in /usr/local/lib/python3.10/dist-packages (from matplotlib>=2.2.3->semantic-kitti-api) (4.47.0)\n",
      "Requirement already satisfied: PyQt5-Qt5>=5.15.2 in /usr/local/lib/python3.10/dist-packages (from pyqt5>=5.8.1.1->semantic-kitti-api) (5.15.2)\n",
      "Requirement already satisfied: PyQt5-sip<13,>=12.13 in /usr/local/lib/python3.10/dist-packages (from pyqt5>=5.8.1.1->semantic-kitti-api) (12.13.0)\n",
      "Requirement already satisfied: nvidia-cuda-runtime-cu12==12.1.105 in /usr/local/lib/python3.10/dist-packages (from torch>=1.1.0->semantic-kitti-api) (12.1.105)\n",
      "Requirement already satisfied: nvidia-nvtx-cu12==12.1.105 in /usr/local/lib/python3.10/dist-packages (from torch>=1.1.0->semantic-kitti-api) (12.1.105)\n",
      "Requirement already satisfied: nvidia-cublas-cu12==12.1.3.1 in /usr/local/lib/python3.10/dist-packages (from torch>=1.1.0->semantic-kitti-api) (12.1.3.1)\n",
      "Requirement already satisfied: triton==2.1.0 in /usr/local/lib/python3.10/dist-packages (from torch>=1.1.0->semantic-kitti-api) (2.1.0)\n",
      "Requirement already satisfied: nvidia-curand-cu12==10.3.2.106 in /usr/local/lib/python3.10/dist-packages (from torch>=1.1.0->semantic-kitti-api) (10.3.2.106)\n",
      "Requirement already satisfied: nvidia-cuda-nvrtc-cu12==12.1.105 in /usr/local/lib/python3.10/dist-packages (from torch>=1.1.0->semantic-kitti-api) (12.1.105)\n",
      "Requirement already satisfied: networkx in /usr/local/lib/python3.10/dist-packages (from torch>=1.1.0->semantic-kitti-api) (3.2.1)\n",
      "Requirement already satisfied: fsspec in /usr/local/lib/python3.10/dist-packages (from torch>=1.1.0->semantic-kitti-api) (2023.12.2)\n",
      "Requirement already satisfied: nvidia-cudnn-cu12==8.9.2.26 in /usr/local/lib/python3.10/dist-packages (from torch>=1.1.0->semantic-kitti-api) (8.9.2.26)\n",
      "Requirement already satisfied: typing-extensions in /usr/local/lib/python3.10/dist-packages (from torch>=1.1.0->semantic-kitti-api) (4.9.0)\n",
      "Requirement already satisfied: nvidia-cufft-cu12==11.0.2.54 in /usr/local/lib/python3.10/dist-packages (from torch>=1.1.0->semantic-kitti-api) (11.0.2.54)\n",
      "Requirement already satisfied: nvidia-cusolver-cu12==11.4.5.107 in /usr/local/lib/python3.10/dist-packages (from torch>=1.1.0->semantic-kitti-api) (11.4.5.107)\n",
      "Requirement already satisfied: sympy in /usr/local/lib/python3.10/dist-packages (from torch>=1.1.0->semantic-kitti-api) (1.12)\n",
      "Requirement already satisfied: filelock in /usr/local/lib/python3.10/dist-packages (from torch>=1.1.0->semantic-kitti-api) (3.13.1)\n",
      "Requirement already satisfied: nvidia-cusparse-cu12==12.1.0.106 in /usr/local/lib/python3.10/dist-packages (from torch>=1.1.0->semantic-kitti-api) (12.1.0.106)\n",
      "Requirement already satisfied: nvidia-nccl-cu12==2.18.1 in /usr/local/lib/python3.10/dist-packages (from torch>=1.1.0->semantic-kitti-api) (2.18.1)\n",
      "Requirement already satisfied: nvidia-cuda-cupti-cu12==12.1.105 in /usr/local/lib/python3.10/dist-packages (from torch>=1.1.0->semantic-kitti-api) (12.1.105)\n",
      "Requirement already satisfied: jinja2 in /usr/local/lib/python3.10/dist-packages (from torch>=1.1.0->semantic-kitti-api) (3.1.2)\n",
      "Requirement already satisfied: nvidia-nvjitlink-cu12 in /usr/local/lib/python3.10/dist-packages (from nvidia-cusolver-cu12==11.4.5.107->torch>=1.1.0->semantic-kitti-api) (12.3.101)\n",
      "Requirement already satisfied: freetype-py in /usr/local/lib/python3.10/dist-packages (from vispy>=0.5.3->semantic-kitti-api) (2.4.0)\n",
      "Requirement already satisfied: hsluv in /usr/local/lib/python3.10/dist-packages (from vispy>=0.5.3->semantic-kitti-api) (5.0.4)\n",
      "Requirement already satisfied: six>=1.5 in /usr/lib/python3/dist-packages (from python-dateutil>=2.7->matplotlib>=2.2.3->semantic-kitti-api) (1.16.0)\n",
      "Requirement already satisfied: MarkupSafe>=2.0 in /usr/local/lib/python3.10/dist-packages (from jinja2->torch>=1.1.0->semantic-kitti-api) (2.1.3)\n",
      "Requirement already satisfied: mpmath>=0.19 in /usr/local/lib/python3.10/dist-packages (from sympy->torch>=1.1.0->semantic-kitti-api) (1.3.0)\n",
      "\u001b[33mWARNING: Running pip as the 'root' user can result in broken permissions and conflicting behaviour with the system package manager. It is recommended to use a virtual environment instead: https://pip.pypa.io/warnings/venv\u001b[0m\u001b[33m\n",
      "\u001b[0m"
     ]
    }
   ],
   "source": [
    "!pip install semantic-kitti-api"
   ]
  },
  {
   "cell_type": "code",
   "execution_count": null,
   "id": "ed90949a-c27f-42af-9d56-a4dc74ba516c",
   "metadata": {},
   "outputs": [],
   "source": [
    "import os\n",
    "import numpy as np\n",
    "import matplotlib.pyplot as plt\n",
    "import argparse\n",
    "import yaml\n",
    "from auxiliary.laserscan import LaserScan, SemLaserScan\n",
    "from auxiliary.laserscanvis import LaserScanVis"
   ]
  },
  {
   "cell_type": "code",
   "execution_count": null,
   "id": "d8336059-de03-47f5-a0d2-ef35685cf67b",
   "metadata": {},
   "outputs": [],
   "source": [
    "'''\n",
    "- Projeta a imagem a fonte viridis\n",
    "'''\n",
    "def visualize_spherical_projection(spherical_projection):\n",
    "    plt.imshow(spherical_projection, cmap='viridis')\n",
    "    plt.title('2D Spherical Projection ')\n",
    "    plt.savefig(\"Projeção_Esférica_2D.png\", dpi=1200)\n",
    "    plt.show()\n",
    "    "
   ]
  },
  {
   "cell_type": "code",
   "execution_count": null,
   "id": "69fc93b1-b343-448e-8112-29739998df82",
   "metadata": {},
   "outputs": [
    {
     "data": {
      "text/plain": [
       "'../point_clouds/semantic_kitti/'"
      ]
     },
     "execution_count": null,
     "metadata": {},
     "output_type": "execute_result"
    }
   ],
   "source": [
    "\"../point_clouds/semantic_kitti/\""
   ]
  },
  {
   "cell_type": "code",
   "execution_count": null,
   "id": "5b4c0574-90db-455f-8e1b-dc7a3fae2d4d",
   "metadata": {},
   "outputs": [],
   "source": [
    "scan_paths = os.path.join(\"../point_clouds/semantic_kitti/\", \"velodyne\")\n",
    "\n",
    "scan_names = [os.path.join(dp, f) for dp, dn, fn in os.walk(os.path.expanduser(scan_paths)) for f in fn]\n",
    "\n",
    "scan_names.sort()"
   ]
  },
  {
   "cell_type": "code",
   "execution_count": null,
   "id": "ebdba0c4-3c47-4c1d-8512-3f663cc52046",
   "metadata": {},
   "outputs": [],
   "source": [
    "label_paths = os.path.join(\"../point_clouds/semantic_kitti/\", \"labels\")\n",
    "\n",
    "label_names = [os.path.join(dp, f) for dp, dn, fn in os.walk(os.path.expanduser(label_paths)) for f in fn]\n",
    "\n",
    "label_names.sort()"
   ]
  },
  {
   "cell_type": "code",
   "execution_count": null,
   "id": "c9782496-abe2-4698-8928-2535ec510dfe",
   "metadata": {},
   "outputs": [],
   "source": [
    "color_dict = {\n",
    "    0: [0, 0, 0],\n",
    "    1: [0, 0, 255],\n",
    "    10: [245, 150, 100],\n",
    "    11: [245, 230, 100],\n",
    "    13: [250, 80, 100],\n",
    "    15: [150, 60, 30],\n",
    "    16: [255, 0, 0],\n",
    "    18: [180, 30, 80],\n",
    "    20: [255, 0, 0],\n",
    "    30: [30, 30, 255],\n",
    "    31: [200, 40, 255],\n",
    "    32: [90, 30, 150],\n",
    "    40: [255, 0, 255],\n",
    "    44: [255, 150, 255],\n",
    "    48: [75, 0, 75],\n",
    "    49: [75, 0, 175],\n",
    "    50: [0, 200, 255],\n",
    "    51: [50, 120, 255],\n",
    "    52: [0, 150, 255],\n",
    "    60: [170, 255, 150],\n",
    "    70: [0, 175, 0],\n",
    "    71: [0, 60, 135],\n",
    "    72: [80, 240, 150],\n",
    "    80: [150, 240, 255],\n",
    "    81: [0, 0, 255],\n",
    "    99: [255, 255, 50],\n",
    "    252: [245, 150, 100],\n",
    "    256: [255, 0, 0],\n",
    "    253: [200, 40, 255],\n",
    "    254: [30, 30, 255],\n",
    "    255: [90, 30, 150],\n",
    "    257: [250, 80, 100],\n",
    "    258: [180, 30, 80],\n",
    "    259: [255, 0, 0]\n",
    "}"
   ]
  },
  {
   "cell_type": "code",
   "execution_count": null,
   "id": "0ac4e6c4-0d54-45a9-9b50-d3fbf0cea364",
   "metadata": {},
   "outputs": [],
   "source": [
    "learning_map_inv = {\n",
    "    0: 0,      # \"unlabeled\", and others ignored\n",
    "    1: 10,     # \"car\"\n",
    "    2: 11,     # \"bicycle\"\n",
    "    3: 15,     # \"motorcycle\"\n",
    "    4: 18,     # \"truck\"\n",
    "    5: 20,     # \"other-vehicle\"\n",
    "    6: 30,     # \"person\"\n",
    "    7: 31,     # \"bicyclist\"\n",
    "    8: 32,     # \"motorcyclist\"\n",
    "    9: 40,     # \"road\"\n",
    "    10: 44,    # \"parking\"\n",
    "    11: 48,    # \"sidewalk\"\n",
    "    12: 49,    # \"other-ground\"\n",
    "    13: 50,    # \"building\"\n",
    "    14: 51,    # \"fence\"\n",
    "    15: 70,    # \"vegetation\"\n",
    "    16: 71,    # \"trunk\"\n",
    "    17: 72,    # \"terrain\"\n",
    "    18: 80,    # \"pole\"\n",
    "    19: 81     # \"traffic-sign\"\n",
    "}"
   ]
  },
  {
   "cell_type": "code",
   "execution_count": null,
   "id": "15667eec-b079-40f0-aef4-f83c61bc7e55",
   "metadata": {},
   "outputs": [],
   "source": [
    "learning_map = {\n",
    "    0: 0,     # \"unlabeled\"\n",
    "    1: 0,     # \"outlier\" mapped to \"unlabeled\" --------------------------mapped\n",
    "    10: 1,    # \"car\"\n",
    "    11: 2,    # \"bicycle\"\n",
    "    13: 5,    # \"bus\" mapped to \"other-vehicle\" --------------------------mapped\n",
    "    15: 3,    # \"motorcycle\"\n",
    "    16: 5,    # \"on-rails\" mapped to \"other-vehicle\" ---------------------mapped\n",
    "    18: 4,    # \"truck\"\n",
    "    20: 5,    # \"other-vehicle\"\n",
    "    30: 6,    # \"person\"\n",
    "    31: 7,    # \"bicyclist\"\n",
    "    32: 8,    # \"motorcyclist\"\n",
    "    40: 9,    # \"road\"\n",
    "    44: 10,   # \"parking\"\n",
    "    48: 11,   # \"sidewalk\"\n",
    "    49: 12,   # \"other-ground\"\n",
    "    50: 13,   # \"building\"\n",
    "    51: 14,   # \"fence\"\n",
    "    52: 0,    # \"other-structure\" mapped to \"unlabeled\" ------------------mapped\n",
    "    60: 9,    # \"lane-marking\" to \"road\" ---------------------------------mapped\n",
    "    70: 15,   # \"vegetation\"\n",
    "    71: 16,   # \"trunk\"\n",
    "    72: 17,   # \"terrain\"\n",
    "    80: 18,   # \"pole\"\n",
    "    81: 19,   # \"traffic-sign\"\n",
    "    99: 0,    # \"other-object\" to \"unlabeled\" ----------------------------mapped\n",
    "    252: 1,   # \"moving-car\" to \"car\" ------------------------------------mapped\n",
    "    253: 7,   # \"moving-bicyclist\" to \"bicyclist\" ------------------------mapped\n",
    "    254: 6,   # \"moving-person\" to \"person\" ------------------------------mapped\n",
    "    255: 8,   # \"moving-motorcyclist\" to \"motorcyclist\" ------------------mapped\n",
    "    256: 5,   # \"moving-on-rails\" mapped to \"other-vehicle\" --------------mapped\n",
    "    257: 5,   # \"moving-bus\" mapped to \"other-vehicle\" -------------------mapped\n",
    "    258: 4,   # \"moving-truck\" to \"truck\" --------------------------------mapped\n",
    "    259: 5    # \"moving-other\"-vehicle to \"other-vehicle\" ----------------mapped\n",
    "}"
   ]
  },
  {
   "cell_type": "code",
   "execution_count": null,
   "id": "26884c76-2999-4ea4-a108-7bc0f8951d1c",
   "metadata": {},
   "outputs": [],
   "source": [
    "color_dict = {key:color_dict[learning_map_inv[learning_map[key]]] for key, value in color_dict.items()}"
   ]
  },
  {
   "cell_type": "code",
   "execution_count": null,
   "id": "e1834ca6-db41-4ec1-8509-1bfeec752519",
   "metadata": {},
   "outputs": [],
   "source": [
    "scan = SemLaserScan(color_dict, project=True)"
   ]
  },
  {
   "cell_type": "code",
   "execution_count": null,
   "id": "4c8844df-601d-4e35-89ed-d511d164b675",
   "metadata": {},
   "outputs": [
    {
     "name": "stdout",
     "output_type": "stream",
     "text": [
      "Requirement already satisfied: jupyter_rfb in /usr/local/lib/python3.10/dist-packages (0.4.2)\n",
      "Requirement already satisfied: jupyterlab-widgets in /usr/local/lib/python3.10/dist-packages (from jupyter_rfb) (3.0.9)\n",
      "Requirement already satisfied: numpy in /usr/local/lib/python3.10/dist-packages (from jupyter_rfb) (1.26.2)\n",
      "Requirement already satisfied: ipywidgets<9,>=7.6.0 in /usr/local/lib/python3.10/dist-packages (from jupyter_rfb) (8.0.4)\n",
      "Requirement already satisfied: widgetsnbextension~=4.0 in /usr/local/lib/python3.10/dist-packages (from ipywidgets<9,>=7.6.0->jupyter_rfb) (4.0.9)\n",
      "Requirement already satisfied: ipykernel>=4.5.1 in /usr/local/lib/python3.10/dist-packages (from ipywidgets<9,>=7.6.0->jupyter_rfb) (6.27.1)\n",
      "Requirement already satisfied: ipython>=6.1.0 in /usr/local/lib/python3.10/dist-packages (from ipywidgets<9,>=7.6.0->jupyter_rfb) (8.18.1)\n",
      "Requirement already satisfied: traitlets>=4.3.1 in /usr/local/lib/python3.10/dist-packages (from ipywidgets<9,>=7.6.0->jupyter_rfb) (5.14.0)\n",
      "Requirement already satisfied: debugpy>=1.6.5 in /usr/local/lib/python3.10/dist-packages (from ipykernel>=4.5.1->ipywidgets<9,>=7.6.0->jupyter_rfb) (1.8.0)\n",
      "Requirement already satisfied: psutil in /usr/local/lib/python3.10/dist-packages (from ipykernel>=4.5.1->ipywidgets<9,>=7.6.0->jupyter_rfb) (5.9.7)\n",
      "Requirement already satisfied: tornado>=6.1 in /usr/local/lib/python3.10/dist-packages (from ipykernel>=4.5.1->ipywidgets<9,>=7.6.0->jupyter_rfb) (6.4)\n",
      "Requirement already satisfied: pyzmq>=20 in /usr/local/lib/python3.10/dist-packages (from ipykernel>=4.5.1->ipywidgets<9,>=7.6.0->jupyter_rfb) (25.1.2)\n",
      "Requirement already satisfied: jupyter-client>=6.1.12 in /usr/local/lib/python3.10/dist-packages (from ipykernel>=4.5.1->ipywidgets<9,>=7.6.0->jupyter_rfb) (8.6.0)\n",
      "Requirement already satisfied: nest-asyncio in /usr/local/lib/python3.10/dist-packages (from ipykernel>=4.5.1->ipywidgets<9,>=7.6.0->jupyter_rfb) (1.5.8)\n",
      "Requirement already satisfied: jupyter-core!=5.0.*,>=4.12 in /usr/local/lib/python3.10/dist-packages (from ipykernel>=4.5.1->ipywidgets<9,>=7.6.0->jupyter_rfb) (5.5.1)\n",
      "Requirement already satisfied: matplotlib-inline>=0.1 in /usr/local/lib/python3.10/dist-packages (from ipykernel>=4.5.1->ipywidgets<9,>=7.6.0->jupyter_rfb) (0.1.6)\n",
      "Requirement already satisfied: comm>=0.1.1 in /usr/local/lib/python3.10/dist-packages (from ipykernel>=4.5.1->ipywidgets<9,>=7.6.0->jupyter_rfb) (0.2.0)\n",
      "Requirement already satisfied: packaging in /usr/local/lib/python3.10/dist-packages (from ipykernel>=4.5.1->ipywidgets<9,>=7.6.0->jupyter_rfb) (23.2)\n",
      "Requirement already satisfied: stack-data in /usr/local/lib/python3.10/dist-packages (from ipython>=6.1.0->ipywidgets<9,>=7.6.0->jupyter_rfb) (0.6.3)\n",
      "Requirement already satisfied: pygments>=2.4.0 in /usr/local/lib/python3.10/dist-packages (from ipython>=6.1.0->ipywidgets<9,>=7.6.0->jupyter_rfb) (2.17.2)\n",
      "Requirement already satisfied: pexpect>4.3 in /usr/local/lib/python3.10/dist-packages (from ipython>=6.1.0->ipywidgets<9,>=7.6.0->jupyter_rfb) (4.9.0)\n",
      "Requirement already satisfied: decorator in /usr/local/lib/python3.10/dist-packages (from ipython>=6.1.0->ipywidgets<9,>=7.6.0->jupyter_rfb) (5.1.1)\n",
      "Requirement already satisfied: jedi>=0.16 in /usr/local/lib/python3.10/dist-packages (from ipython>=6.1.0->ipywidgets<9,>=7.6.0->jupyter_rfb) (0.19.1)\n",
      "Requirement already satisfied: prompt-toolkit<3.1.0,>=3.0.41 in /usr/local/lib/python3.10/dist-packages (from ipython>=6.1.0->ipywidgets<9,>=7.6.0->jupyter_rfb) (3.0.43)\n",
      "Requirement already satisfied: exceptiongroup in /usr/local/lib/python3.10/dist-packages (from ipython>=6.1.0->ipywidgets<9,>=7.6.0->jupyter_rfb) (1.2.0)\n",
      "Requirement already satisfied: parso<0.9.0,>=0.8.3 in /usr/local/lib/python3.10/dist-packages (from jedi>=0.16->ipython>=6.1.0->ipywidgets<9,>=7.6.0->jupyter_rfb) (0.8.3)\n",
      "Requirement already satisfied: python-dateutil>=2.8.2 in /usr/local/lib/python3.10/dist-packages (from jupyter-client>=6.1.12->ipykernel>=4.5.1->ipywidgets<9,>=7.6.0->jupyter_rfb) (2.8.2)\n",
      "Requirement already satisfied: platformdirs>=2.5 in /usr/local/lib/python3.10/dist-packages (from jupyter-core!=5.0.*,>=4.12->ipykernel>=4.5.1->ipywidgets<9,>=7.6.0->jupyter_rfb) (4.1.0)\n",
      "Requirement already satisfied: ptyprocess>=0.5 in /usr/local/lib/python3.10/dist-packages (from pexpect>4.3->ipython>=6.1.0->ipywidgets<9,>=7.6.0->jupyter_rfb) (0.7.0)\n",
      "Requirement already satisfied: wcwidth in /usr/local/lib/python3.10/dist-packages (from prompt-toolkit<3.1.0,>=3.0.41->ipython>=6.1.0->ipywidgets<9,>=7.6.0->jupyter_rfb) (0.2.12)\n",
      "Requirement already satisfied: pure-eval in /usr/local/lib/python3.10/dist-packages (from stack-data->ipython>=6.1.0->ipywidgets<9,>=7.6.0->jupyter_rfb) (0.2.2)\n",
      "Requirement already satisfied: asttokens>=2.1.0 in /usr/local/lib/python3.10/dist-packages (from stack-data->ipython>=6.1.0->ipywidgets<9,>=7.6.0->jupyter_rfb) (2.4.1)\n",
      "Requirement already satisfied: executing>=1.2.0 in /usr/local/lib/python3.10/dist-packages (from stack-data->ipython>=6.1.0->ipywidgets<9,>=7.6.0->jupyter_rfb) (2.0.1)\n",
      "Requirement already satisfied: six>=1.12.0 in /usr/lib/python3/dist-packages (from asttokens>=2.1.0->stack-data->ipython>=6.1.0->ipywidgets<9,>=7.6.0->jupyter_rfb) (1.16.0)\n",
      "\u001b[33mWARNING: Running pip as the 'root' user can result in broken permissions and conflicting behaviour with the system package manager. It is recommended to use a virtual environment instead: https://pip.pypa.io/warnings/venv\u001b[0m\u001b[33m\n",
      "\u001b[0m"
     ]
    }
   ],
   "source": [
    "!pip install jupyter_rfb"
   ]
  },
  {
   "cell_type": "code",
   "execution_count": null,
   "id": "344d3cdf-0e84-40f5-9772-23309632f3fb",
   "metadata": {},
   "outputs": [
    {
     "data": {
      "application/vnd.jupyter.widget-view+json": {
       "model_id": "da8638dfeb4b412097a5c424fdbcc801",
       "version_major": 2,
       "version_minor": 0
      },
      "text/plain": [
       "RFBOutputContext()"
      ]
     },
     "metadata": {},
     "output_type": "display_data"
    },
    {
     "name": "stdout",
     "output_type": "stream",
     "text": [
      "Using semantics in visualizer\n"
     ]
    },
    {
     "data": {
      "application/vnd.jupyter.widget-view+json": {
       "model_id": "9d6aeb64e59f4f00858d4147d6e43491",
       "version_major": 2,
       "version_minor": 0
      },
      "text/plain": [
       "RFBOutputContext()"
      ]
     },
     "metadata": {},
     "output_type": "display_data"
    }
   ],
   "source": [
    "vis = LaserScanVis(scan=scan,\n",
    "                     scan_names=scan_names,\n",
    "                     label_names=label_names,\n",
    "                     offset=0,\n",
    "                     semantics=True, instances=False and semantics, images=True, link=None)"
   ]
  },
  {
   "cell_type": "code",
   "execution_count": null,
   "id": "4e0f1748-7e02-4da5-9f44-403fbd559c95",
   "metadata": {},
   "outputs": [
    {
     "data": {
      "image/png": "[encoded data removed]",
      "text/plain": [
       "<Figure size 640x480 with 1 Axes>"
      ]
     },
     "metadata": {},
     "output_type": "display_data"
    }
   ],
   "source": [
    "visualize_spherical_projection(scan.proj_sem_color)"
   ]
  },
  {
   "cell_type": "code",
   "execution_count": null,
   "id": "20b71d35-4751-4549-97c9-acf9072040fa",
   "metadata": {},
   "outputs": [
    {
     "data": {
      "text/plain": [
       "(64, 1024, 3)"
      ]
     },
     "execution_count": null,
     "metadata": {},
     "output_type": "execute_result"
    }
   ],
   "source": [
    "scan.proj_sem_color.shape"
   ]
  }
 ],
 "metadata": {
  "kernelspec": {
   "display_name": "python3",
   "language": "python",
   "name": "python3"
  }
 },
 "nbformat": 4,
 "nbformat_minor": 5
}
