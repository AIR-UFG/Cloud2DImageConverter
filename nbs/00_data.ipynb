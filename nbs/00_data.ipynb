{
 "cells": [
  {
   "cell_type": "markdown",
   "metadata": {},
   "source": [
    "# Data\n",
    "\n",
    "> Setup the data"
   ]
  },
  {
   "cell_type": "code",
   "execution_count": null,
   "metadata": {},
   "outputs": [],
   "source": [
    "#| default_exp data"
   ]
  },
  {
   "cell_type": "code",
   "execution_count": null,
   "metadata": {},
   "outputs": [],
   "source": [
    "#| export\n",
    "import numpy as np\n",
    "import yaml\n",
    "import os"
   ]
  },
  {
   "cell_type": "markdown",
   "metadata": {},
   "source": [
    "Carregando os dicionários de mapeamento do .yaml do semantic kitti"
   ]
  },
  {
   "cell_type": "code",
   "execution_count": null,
   "metadata": {},
   "outputs": [],
   "source": [
    "#| export\n",
    "folder_path = \"../point_clouds/semantic_kitti/\"\n",
    "\n",
    "with open(folder_path+\"semantic-kitti.yaml\", 'r') as file:\n",
    "    data = yaml.safe_load(file)\n",
    "\n",
    "label_map = data.get('labels', {})\n",
    "learning_map = data.get('learning_map', {})\n",
    "learning_map_inv = data.get('learning_map_inv', {})\n",
    "color_map = data.get('color_map', {})"
   ]
  },
  {
   "cell_type": "markdown",
   "metadata": {},
   "source": [
    "Carrega a point cloud com base em um range.\n",
    "* Args:\n",
    "  * velodyne_path: caminho da pasta que contém os .bins\n",
    "  * velodyne_list: lista contendo os bins que devem ser carregados, parâmetro definido em 02_image_generator.ipynb\n",
    "  * labels_path: caminho da pasta que contem os .labels \n",
    "  * label_list: lista contendo os labels que devem ser carregados, parâmetro definido em 02_image_generator.ipynb\n",
    "* Return:\n",
    "  * point_cloud: np array contendo a núvem de pontos, onde cada dimensão corresponde a uma feature diferente"
   ]
  },
  {
   "cell_type": "code",
   "execution_count": null,
   "metadata": {},
   "outputs": [],
   "source": [
    "#| export\n",
    "def load_data(velodyne_path, velodyne_list, labels_path=None, label_list=None):\n",
    "    point_cloud = []\n",
    "    for index in (range(len(velodyne_list))):\n",
    "        frame_path = os.path.join(velodyne_path, velodyne_list[index])\n",
    "        with open(frame_path, 'rb') as f:\n",
    "            frame = np.fromfile(f, dtype=np.float32).reshape(-1, 4)\n",
    "\n",
    "        if labels_path != None:\n",
    "            label_path = os.path.join(labels_path, label_list[index])\n",
    "            with open(label_path, 'rb') as f:\n",
    "                label = np.fromfile(f, dtype=np.uint32)\n",
    "                label = label & 0xFFFF\n",
    "            point_cloud.append(np.concatenate((frame, label.reshape(-1, 1)), axis=1))\n",
    "        else:\n",
    "            point_cloud.append(frame)\n",
    "            \n",
    "    return point_cloud"
   ]
  },
  {
   "cell_type": "markdown",
   "metadata": {},
   "source": [
    "Carrega a point cloud por completo (utilizada somente para testes)."
   ]
  },
  {
   "cell_type": "code",
   "execution_count": null,
   "metadata": {},
   "outputs": [],
   "source": [
    "#| export\n",
    "def load_all_data(sequence_path):\n",
    "    velodyne_path = os.path.join(sequence_path, 'velodyne')\n",
    "    labels_path = os.path.join(sequence_path, 'labels')\n",
    "\n",
    "    frames = []\n",
    "    for frame_name in sorted(os.listdir(velodyne_path)):\n",
    "        frame_path = os.path.join(velodyne_path, frame_name)\n",
    "        with open(frame_path, 'rb') as f:\n",
    "            frames.append(np.fromfile(f, dtype=np.float32).reshape(-1, 4))\n",
    "\n",
    "    labels = []\n",
    "    for label_name in sorted(os.listdir(labels_path)):\n",
    "        label_path = os.path.join(labels_path, label_name)\n",
    "        with open(label_path, 'rb') as f:\n",
    "            np_label = np.fromfile(f, dtype=np.uint32)\n",
    "            np_label = np_label & 0xFFFF\n",
    "            labels.append(np_label)\n",
    "\n",
    "    point_cloud = []\n",
    "    for frame, label in zip(frames,labels):\n",
    "        point_cloud.append(np.concatenate((frame, label.reshape(-1, 1)), axis=1))\n",
    "    \n",
    "    return point_cloud"
   ]
  },
  {
   "cell_type": "code",
   "execution_count": null,
   "metadata": {},
   "outputs": [],
   "source": [
    "#| hide\n",
    "import nbdev; nbdev.nbdev_export()"
   ]
  }
 ],
 "metadata": {
  "kernelspec": {
   "display_name": "python3",
   "language": "python",
   "name": "python3"
  }
 },
 "nbformat": 4,
 "nbformat_minor": 4
}
