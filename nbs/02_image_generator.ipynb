{
 "cells": [
  {
   "cell_type": "markdown",
   "id": "3fbdec7d-0909-45a1-9eed-157b0ba058ac",
   "metadata": {},
   "source": [
    "# Image Generator"
   ]
  },
  {
   "cell_type": "code",
   "execution_count": null,
   "id": "4b2c9edb-a25c-4df2-b3e4-d3f767e08a4f",
   "metadata": {},
   "outputs": [],
   "source": [
    "#| default_exp image_generator"
   ]
  },
  {
   "cell_type": "code",
   "execution_count": null,
   "id": "889fdf70-0f99-4c48-a857-d478b89fbb74",
   "metadata": {},
   "outputs": [],
   "source": [
    "#| export\n",
    "from Cloud2DImageConverter import spherical_projection as sp\n",
    "from Cloud2DImageConverter import data\n",
    "from matplotlib import pyplot as plt\n",
    "from tqdm import tqdm\n",
    "from PIL import Image\n",
    "import numpy as np\n",
    "import pickle \n",
    "import shutil\n",
    "import time\n",
    "import os"
   ]
  },
  {
   "cell_type": "code",
   "execution_count": null,
   "id": "c7e7ab41-7f30-4705-88ae-d58315dc11c7",
   "metadata": {},
   "outputs": [],
   "source": [
    "#| export\n",
    "def define_range(batch, batch_size, max_len):\n",
    "    start = batch - batch_size\n",
    "    end = batch\n",
    "    if (max_len - batch) < batch_size:\n",
    "        end = max_len\n",
    "    return start, end"
   ]
  },
  {
   "cell_type": "code",
   "execution_count": null,
   "id": "a7b5c1b6-c7e9-422f-a12f-6b4f9c398079",
   "metadata": {},
   "outputs": [],
   "source": [
    "#| export\n",
    "def do_projection(point_cloud, fov_up, fov_down, width, height, is_label):\n",
    "    projection_dict = {\"reflectance\": [], \"depth\": []}\n",
    "    if is_label:\n",
    "        projection_dict[\"label\"] = []\n",
    "    for points in point_cloud:\n",
    "        reflectance, depth, mask = sp.spherical_projection(points, fov_up, fov_down, width, height)\n",
    "        projection_dict[\"reflectance\"].append(reflectance)\n",
    "        projection_dict[\"depth\"].append(depth)\n",
    "        if is_label:\n",
    "            projection_dict[\"label\"].append(mask)\n",
    "    return projection_dict"
   ]
  },
  {
   "cell_type": "code",
   "execution_count": null,
   "id": "d3bd9cac-c043-4e2d-8a1c-c5b2d014cc2d",
   "metadata": {},
   "outputs": [],
   "source": [
    "#| export\n",
    "def save_image(matrix, results_folder, save_path):\n",
    "    img = Image.fromarray(matrix)\n",
    "    final_path = os.path.join(results_folder+save_path)\n",
    "    file_number = len(os.listdir(final_path)) + 1\n",
    "    file_name = f\"{final_path}/{file_number:06d}.png\"\n",
    "    img.save(file_name)\n",
    "\n",
    "def create_images(projection_dict, results_folder):\n",
    "    reflectance = projection_dict[\"reflectance\"]\n",
    "    depth = projection_dict[\"depth\"]\n",
    "    labels = projection_dict.get(\"label\", [])\n",
    "    # Itera sobre cada posição do dicionário agrupando junto as matrizes de mesmo indice\n",
    "    for zip_dict in zip(reflectance, depth, labels) if \"label\" in projection_dict else zip(reflectance, depth):\n",
    "        # Alterna entre as chaves e os indices respectivos a cada chave\n",
    "        aux_dict = {}\n",
    "        for index, key in enumerate(projection_dict.keys()):\n",
    "            matrix = zip_dict[index]  \n",
    "            if key == \"reflectance\":\n",
    "                matrix = matrix * 255\n",
    "                matrix = matrix.astype(np.uint8)\n",
    "            elif key == \"depth\":\n",
    "                matrix = ((matrix - matrix.min()) / (matrix.max() - matrix.min())) * 255\n",
    "                matrix = matrix.astype(np.uint8)\n",
    "            elif key == \"label\":\n",
    "                matrix = np.vectorize(data.learning_map.get)(matrix)\n",
    "                matrix = matrix.astype(np.uint8)\n",
    "            aux_dict[key] = matrix\n",
    "        save_image(aux_dict[\"reflectance\"], results_folder, \"reflectance\")\n",
    "        save_image(aux_dict[\"depth\"], results_folder, \"depth\")\n",
    "        if \"label\" in aux_dict:\n",
    "            save_image(aux_dict[\"label\"], results_folder, \"segmentation_mask\")"
   ]
  },
  {
   "cell_type": "code",
   "execution_count": null,
   "id": "fe120382-7f69-42a6-9e36-1e64a66a05b4",
   "metadata": {},
   "outputs": [],
   "source": [
    "#| hide\n",
    "import nbdev; nbdev.nbdev_export()"
   ]
  }
 ],
 "metadata": {
  "kernelspec": {
   "display_name": "python3",
   "language": "python",
   "name": "python3"
  }
 },
 "nbformat": 4,
 "nbformat_minor": 5
}
