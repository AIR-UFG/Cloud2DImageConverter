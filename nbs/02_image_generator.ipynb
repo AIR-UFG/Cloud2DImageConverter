{
 "cells": [
  {
   "cell_type": "markdown",
   "id": "3fbdec7d-0909-45a1-9eed-157b0ba058ac",
   "metadata": {},
   "source": [
    "# Image Generator"
   ]
  },
  {
   "cell_type": "code",
   "execution_count": null,
   "id": "4b2c9edb-a25c-4df2-b3e4-d3f767e08a4f",
   "metadata": {},
   "outputs": [],
   "source": [
    "#| default_exp image_generator"
   ]
  },
  {
   "cell_type": "code",
   "execution_count": null,
   "id": "889fdf70-0f99-4c48-a857-d478b89fbb74",
   "metadata": {},
   "outputs": [],
   "source": [
    "#| eval:false\n",
    "from Cloud2DImageConverter import spherical_projection as sp\n",
    "from Cloud2DImageConverter import data\n",
    "from matplotlib import pyplot as plt\n",
    "from tqdm import tqdm\n",
    "from PIL import Image\n",
    "import numpy as np\n",
    "import shutil\n",
    "import time\n",
    "import os"
   ]
  },
  {
   "cell_type": "code",
   "execution_count": null,
   "id": "fd9c9088-e4a1-4ee4-886a-59ef49925f56",
   "metadata": {},
   "outputs": [],
   "source": [
    "#| eval:false\n",
    "FOLDER_PATH = \"../point_clouds/semantic_kitti/\"\n",
    "VELODYNE_PATH = FOLDER_PATH+\"velodyne\"\n",
    "LABEL_PATH = FOLDER_PATH+\"labels\"\n",
    "RESULTS_FOLDER =  \"../results/\""
   ]
  },
  {
   "cell_type": "code",
   "execution_count": null,
   "id": "c7e7ab41-7f30-4705-88ae-d58315dc11c7",
   "metadata": {},
   "outputs": [],
   "source": [
    "#| eval:false\n",
    "def define_range(batch, batch_size, max_len):\n",
    "    start = batch - batch_size\n",
    "    end = batch\n",
    "    if (max_len - batch) < batch_size:\n",
    "        end = max_len\n",
    "\n",
    "    return start, end"
   ]
  },
  {
   "cell_type": "code",
   "execution_count": null,
   "id": "a7b5c1b6-c7e9-422f-a12f-6b4f9c398079",
   "metadata": {},
   "outputs": [],
   "source": [
    "#| eval:false\n",
    "def do_projection(point_cloud):\n",
    "    projection_dict = {\"reflectance\": [],\"label\": [], \"depth\": []}\n",
    "    \n",
    "    for points in point_cloud:\n",
    "        unlabaled, labaled, depth = sp.spherical_projection(points)\n",
    "        labaled = sp.colored_matrix_with_label(labaled)\n",
    "        projection_dict[\"reflectance\"].append(unlabaled)\n",
    "        projection_dict[\"label\"].append(labaled)\n",
    "        projection_dict[\"depth\"].append(depth)\n",
    "\n",
    "    return projection_dict"
   ]
  },
  {
   "cell_type": "code",
   "execution_count": null,
   "id": "7ae98efe-fb72-4dcf-b6f1-824730b940a3",
   "metadata": {},
   "outputs": [],
   "source": [
    "#| eval:false\n",
    "def create_images(projection_dict):    \n",
    "    for zip_dict in zip(projection_dict[\"reflectance\"], projection_dict[\"label\"], projection_dict[\"depth\"]):\n",
    "        for i, value in enumerate(projection_dict.keys()): \n",
    "            # Aplica o cmap manualmente \n",
    "            if value == \"reflectance\":\n",
    "                img = zip_dict[i]/np.max(zip_dict[i])\n",
    "                cmap = plt.get_cmap(\"jet\")\n",
    "                img = (cmap(img)*255).astype(np.uint8)\n",
    "                img = Image.fromarray(img)\n",
    "            elif value == \"depth\":\n",
    "                img = zip_dict[i]/np.max(zip_dict[i]) \n",
    "                cmap = plt.get_cmap(\"magma_r\")\n",
    "                img = (cmap(img)*255).astype(np.uint8)\n",
    "                img = Image.fromarray(img)\n",
    "            else:\n",
    "                img = Image.fromarray(zip_dict[i])\n",
    "                \n",
    "            folder_type = \"/\" + value\n",
    "    \n",
    "            # Caminho final para salvar\n",
    "            final_path = os.path.join(RESULTS_FOLDER+folder_type)\n",
    "    \n",
    "            # Define o nome do arquivo, tais como 000001, 000002...\n",
    "            file_number = len(os.listdir(final_path)) + 1\n",
    "            file_name = f\"{final_path}/{file_number:06d}.png\"\n",
    "    \n",
    "            img.save(file_name)"
   ]
  },
  {
   "cell_type": "code",
   "execution_count": null,
   "id": "2a6f75b1-644d-40db-bba2-22d268674a19",
   "metadata": {},
   "outputs": [
    {
     "name": "stderr",
     "output_type": "stream",
     "text": [
      "Batch:: 100%|█████████████████████████████████████████████████████████████████| 5/5 [00:26<00:00,  5.24s/it]\n"
     ]
    }
   ],
   "source": [
    "#| eval:false\n",
    "batch_size = 50\n",
    "max_len = len(os.listdir(VELODYNE_PATH))\n",
    "\n",
    "if os.path.exists(RESULTS_FOLDER):\n",
    "    shutil.rmtree(RESULTS_FOLDER)\n",
    "    \n",
    "os.makedirs(RESULTS_FOLDER)\n",
    "os.makedirs(RESULTS_FOLDER+\"/reflectance\")\n",
    "os.makedirs(RESULTS_FOLDER+\"/label\")\n",
    "os.makedirs(RESULTS_FOLDER+\"/depth\")\n",
    "\n",
    "for batch in tqdm(range(batch_size, max_len, batch_size), desc=\"Batch:\"):\n",
    "    # Define o intervalo de carregamento dos dados\n",
    "    start, end = define_range(batch, batch_size, max_len)\n",
    "\n",
    "    # Define as listas contendo os nomes dos arquivos\n",
    "    velodyne_list = sorted(os.listdir(VELODYNE_PATH))[start:end]\n",
    "    label_list = sorted(os.listdir(LABEL_PATH))[start:end]\n",
    "\n",
    "    # Carrega os dados \n",
    "    point_cloud = data.load_data(VELODYNE_PATH, LABEL_PATH, velodyne_list, label_list)\n",
    "\n",
    "    # Realiza a projeção esférica\n",
    "    projection_dict = do_projection(point_cloud)\n",
    "\n",
    "    # Cria e salva as imagens\n",
    "    create_images(projection_dict)"
   ]
  }
 ],
 "metadata": {
  "kernelspec": {
   "display_name": "python3",
   "language": "python",
   "name": "python3"
  }
 },
 "nbformat": 4,
 "nbformat_minor": 5
}
