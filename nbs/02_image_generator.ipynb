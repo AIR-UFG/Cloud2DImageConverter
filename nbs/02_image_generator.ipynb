{
 "cells": [
  {
   "cell_type": "markdown",
   "id": "3fbdec7d-0909-45a1-9eed-157b0ba058ac",
   "metadata": {},
   "source": [
    "# Image Generator"
   ]
  },
  {
   "cell_type": "code",
   "execution_count": null,
   "id": "4b2c9edb-a25c-4df2-b3e4-d3f767e08a4f",
   "metadata": {},
   "outputs": [],
   "source": [
    "#| default_exp image_generator"
   ]
  },
  {
   "cell_type": "code",
   "execution_count": null,
   "id": "889fdf70-0f99-4c48-a857-d478b89fbb74",
   "metadata": {},
   "outputs": [],
   "source": [
    "#| eval:false\n",
    "from Cloud2DImageConverter import spherical_projection as sp\n",
    "from Cloud2DImageConverter import data\n",
    "from matplotlib import pyplot as plt\n",
    "import numpy as np\n",
    "import shutil\n",
    "import time\n",
    "import os"
   ]
  },
  {
   "cell_type": "markdown",
   "id": "4cd754d0-13ca-47a6-ad5c-2b93538eb761",
   "metadata": {},
   "source": [
    "Carregando os dados"
   ]
  },
  {
   "cell_type": "code",
   "execution_count": null,
   "id": "e977c186-8789-4f36-a803-b49437afb108",
   "metadata": {},
   "outputs": [],
   "source": [
    "#| eval:false\n",
    "point_cloud = data.load_data(\"../point_clouds/semantic_kitti\")"
   ]
  },
  {
   "cell_type": "markdown",
   "id": "0f9b6e80-5c8e-433e-bfd5-bafc7d61bf94",
   "metadata": {},
   "source": [
    "Gerando as projeções\r",
    "* rogerio_dict: Rogério https://github.com/alunos-pfc/Spherical-Projection-SemanticKITTI\r\n"
   ]
  },
  {
   "cell_type": "code",
   "execution_count": null,
   "id": "e8cc9347-1d97-4732-b705-981d827a600b",
   "metadata": {},
   "outputs": [],
   "source": [
    "#| eval:false\n",
    "projection_dict = {\n",
    "    \"reflectance\": [],\n",
    "    \"label\": []\n",
    "}\n",
    "\n",
    "for points in point_cloud:\n",
    "    rows, cols, intensity, label = sp.spherical_projection_2(points)\n",
    "    no_label, with_label = sp.create_ImageMatrix(rows, cols, intensity, label)\n",
    "    with_label = sp.colored_matrix_with_label(with_label)\n",
    "    projection_dict[\"reflectance\"].append(no_label)\n",
    "    projection_dict[\"label\"].append(with_label)"
   ]
  },
  {
   "cell_type": "code",
   "execution_count": null,
   "id": "b6e6d7fd-06dc-47bd-9150-0cb9da5ac732",
   "metadata": {},
   "outputs": [],
   "source": [
    "#| eval:false\n",
    "def mapping_colors(value_dict):\n",
    "    if value_dict[\"val\"] == \"reflectance\":\n",
    "        return value_dict[\"pixel_values\"]\n",
    "    colors = [color_map[label] for label in value_dict[\"pixel_values\"]]\n",
    "    return colors\n",
    "    \n",
    "color_map = dict(data.color_map)\n",
    "for key in color_map.keys():\n",
    "    color_map[key] = [round(val/255, 2) for val in color_map[key]]"
   ]
  },
  {
   "cell_type": "code",
   "execution_count": null,
   "id": "9d818e67-29fd-48ea-a559-b7dba0a1cd9f",
   "metadata": {},
   "outputs": [
    {
     "name": "stdout",
     "output_type": "stream",
     "text": [
      "Tempo de execução: 15.139457941055298 segundos\n"
     ]
    }
   ],
   "source": [
    "#| eval:false\n",
    "def rogerio_image_generator(projection_dict, output_folder, rows=64, cols=1024, delete=True):\n",
    "    start_time = time.time() \n",
    "    results_folder =  output_folder+\"results\"\n",
    "\n",
    "    # Se a pasta já existir, apague-a \n",
    "    if os.path.exists(results_folder) and delete:\n",
    "        shutil.rmtree(results_folder)\n",
    "        \n",
    "    os.makedirs(results_folder)\n",
    "    os.makedirs(results_folder+\"/reflectance\")\n",
    "    os.makedirs(results_folder+\"/label\")\n",
    "\n",
    "    for zip_dict in zip(projection_dict[\"reflectance\"], projection_dict[\"label\"]):\n",
    "        for i, value in enumerate(projection_dict.keys()): \n",
    "            if value == \"reflectance\":\n",
    "                cmap = \"jet\"\n",
    "            else:\n",
    "                cmap = None\n",
    "\n",
    "            fig, ax = plt.subplots(figsize=(cols/100,rows/100))\n",
    "            # Plote a primeira matriz no primeiro subplot\n",
    "            ax.imshow(zip_dict[i], cmap=cmap)\n",
    "            ax.xaxis.set_visible(False)    \n",
    "            ax.yaxis.set_visible(False)  \n",
    "\n",
    "            # dict[\"val\"] é o valor de reflectance ou label\n",
    "            folder_type = \"/\" + value\n",
    "\n",
    "            # Caminho final para salver\n",
    "            final_path = os.path.join(results_folder+folder_type)\n",
    "\n",
    "            # Define o nome do arquivo, tais como 000001, 000002...\n",
    "            file_number = len(os.listdir(final_path)) + 1\n",
    "            file_name = f\"{final_path}/{file_number:06d}.png\"\n",
    "\n",
    "            plt.savefig(file_name, bbox_inches='tight', pad_inches=0, format='png', dpi=100)\n",
    "            plt.close()\n",
    "            \n",
    "    end_time = time.time()  # Registra o tempo de fim da execução\n",
    "    elapsed_time = end_time - start_time\n",
    "    print(f\"Tempo de execução: {elapsed_time} segundos\")\n",
    "\n",
    "rogerio_image_generator(projection_dict, output_folder=\"../point_clouds/\")"
   ]
  }
 ],
 "metadata": {
  "kernelspec": {
   "display_name": "python3",
   "language": "python",
   "name": "python3"
  }
 },
 "nbformat": 4,
 "nbformat_minor": 5
}
