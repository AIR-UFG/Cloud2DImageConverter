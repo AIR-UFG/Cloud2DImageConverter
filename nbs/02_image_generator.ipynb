{
 "cells": [
  {
   "cell_type": "markdown",
   "id": "3fbdec7d-0909-45a1-9eed-157b0ba058ac",
   "metadata": {},
   "source": [
    "# Image Generator"
   ]
  },
  {
   "cell_type": "code",
   "execution_count": 1,
   "id": "4b2c9edb-a25c-4df2-b3e4-d3f767e08a4f",
   "metadata": {},
   "outputs": [],
   "source": [
    "#| default_exp image_generator"
   ]
  },
  {
   "cell_type": "code",
   "execution_count": 2,
   "id": "889fdf70-0f99-4c48-a857-d478b89fbb74",
   "metadata": {},
   "outputs": [],
   "source": [
    "#| export\n",
    "from Cloud2DImageConverter import spherical_projection as sp\n",
    "from Cloud2DImageConverter import data\n",
    "from matplotlib import pyplot as plt\n",
    "from tqdm import tqdm\n",
    "from PIL import Image\n",
    "import numpy as np\n",
    "import pickle \n",
    "import shutil\n",
    "import time\n",
    "import os"
   ]
  },
  {
   "cell_type": "markdown",
   "id": "7d9ec39f-8969-401d-8531-91c4f0d9d193",
   "metadata": {},
   "source": [
    "Definição dos parâmetros da projeção. Os valores abaixo são padrão do respositório do semantic kitti api https://github.com/PRBonn/semantic-kitti-api/blob/master/auxiliary/laserscan.py"
   ]
  },
  {
   "cell_type": "code",
   "execution_count": 3,
   "id": "13588dd3-77b0-4164-8685-adfa73a2d81c",
   "metadata": {},
   "outputs": [],
   "source": [
    "#| export\n",
    "# FOV_UP = 3.0\n",
    "# FOV_DOWN = -25.0\n",
    "# WIDTH = 1024\n",
    "# HEIGHT = 64\n",
    "FOV_UP = 15\n",
    "FOV_DOWN = -15\n",
    "WIDTH = 1024\n",
    "HEIGHT = 16"
   ]
  },
  {
   "cell_type": "markdown",
   "id": "9215b68c-2d04-40b9-96b5-42d584941456",
   "metadata": {},
   "source": [
    "Definição de parâmetros deste notebook.\n",
    "* FOLDER_PATH: Caminho contendo as sequências no formato do semantic_kitti\n",
    "* BATCH_SIZE: Quantidade de frames que serão carregados por vez durante a projeção e geração das imagens, varia de acordo com a memória RAM disponível."
   ]
  },
  {
   "cell_type": "code",
   "execution_count": 4,
   "id": "fd9c9088-e4a1-4ee4-886a-59ef49925f56",
   "metadata": {},
   "outputs": [],
   "source": [
    "#| export\n",
    "# FOLDER_PATH = \"../point_clouds/semantic_kitti/\"\n",
    "FOLDER_PATH = \"../point_clouds/carro/\"\n",
    "VELODYNE_PATH = FOLDER_PATH+\"velodyne\"\n",
    "# LABEL_PATH = FOLDER_PATH+\"labels\"\n",
    "LABEL_PATH = None\n",
    "RESULTS_FOLDER =  \"../results_carro/\"\n",
    "\n",
    "BATCH_SIZE = 500\n",
    "MAX_LEN = len(os.listdir(VELODYNE_PATH))\n",
    "\n",
    "if BATCH_SIZE > MAX_LEN: \n",
    "    BATCH_SIZE = MAX_LEN-1"
   ]
  },
  {
   "cell_type": "code",
   "execution_count": 5,
   "id": "2b46a65a-d860-4a1f-ab0c-446c59d8bbed",
   "metadata": {},
   "outputs": [],
   "source": [
    "#| export\n",
    "if os.path.exists(RESULTS_FOLDER):\n",
    "    shutil.rmtree(RESULTS_FOLDER)\n",
    "    \n",
    "os.makedirs(RESULTS_FOLDER)\n",
    "os.makedirs(RESULTS_FOLDER+\"/projections\")\n",
    "os.makedirs(RESULTS_FOLDER+\"/labels\")"
   ]
  },
  {
   "cell_type": "code",
   "execution_count": 6,
   "id": "c7e7ab41-7f30-4705-88ae-d58315dc11c7",
   "metadata": {},
   "outputs": [],
   "source": [
    "#| export\n",
    "def define_range(batch, batch_size, max_len):\n",
    "    start = batch - batch_size\n",
    "    end = batch\n",
    "    if (max_len - batch) < batch_size:\n",
    "        end = max_len\n",
    "    return start, end"
   ]
  },
  {
   "cell_type": "code",
   "execution_count": 7,
   "id": "a7b5c1b6-c7e9-422f-a12f-6b4f9c398079",
   "metadata": {},
   "outputs": [],
   "source": [
    "#| export\n",
    "def do_projection(point_cloud):\n",
    "    projection_dict = {\"reflectance\": [],\"label\": [], \"depth\": []}\n",
    "    for points in point_cloud:\n",
    "        reflectance, depth, mask = sp.spherical_projection(points, FOV_UP, FOV_DOWN, WIDTH, HEIGHT)\n",
    "        projection_dict[\"reflectance\"].append(reflectance)\n",
    "        projection_dict[\"label\"].append(mask)\n",
    "        projection_dict[\"depth\"].append(depth)\n",
    "    return projection_dict"
   ]
  },
  {
   "cell_type": "code",
   "execution_count": 8,
   "id": "d3bd9cac-c043-4e2d-8a1c-c5b2d014cc2d",
   "metadata": {},
   "outputs": [],
   "source": [
    "#| export\n",
    "def save_image(matrix, save_path):\n",
    "    img = Image.fromarray(matrix)\n",
    "    final_path = os.path.join(RESULTS_FOLDER+save_path)\n",
    "    file_number = len(os.listdir(final_path)) + 1\n",
    "    file_name = f\"{final_path}/{file_number:06d}.png\"\n",
    "    img.save(file_name)\n",
    "\n",
    "def create_images(projection_dict):\n",
    "    # Itera sobre cada posição do dicionário agrupando junto as matrizes de mesmo indice\n",
    "    for zip_dict in zip(projection_dict[\"reflectance\"], projection_dict[\"label\"], projection_dict[\"depth\"]):\n",
    "        # Alterna entre as chaves e os indices respectivos a cada chave\n",
    "        aux_dict = {}\n",
    "        for index, key in enumerate(projection_dict.keys()):\n",
    "            matrix = zip_dict[index]\n",
    "            if key != \"label\":\n",
    "                norm_matrix = ((matrix - matrix.min()) / (matrix.max() - matrix.min())) * 255\n",
    "                matrix = norm_matrix.astype(np.uint8)\n",
    "            else:\n",
    "                matrix = sp.colored_matrix_with_label(matrix)\n",
    "            aux_dict[key] = matrix\n",
    "        # black_matrix = np.zeros((64, 1024), dtype=np.uint8)\n",
    "        black_matrix = np.zeros((16, 1024), dtype=np.uint8)\n",
    "        aux_dict[\"final_matrix\"] = np.dstack((np.array(aux_dict[\"reflectance\"]), np.array(aux_dict[\"depth\"]), black_matrix))\n",
    "        save_image(aux_dict[\"final_matrix\"], \"/projections\")\n",
    "        save_image(aux_dict[\"label\"], \"/labels\")"
   ]
  },
  {
   "cell_type": "code",
   "execution_count": 9,
   "id": "2a6f75b1-644d-40db-bba2-22d268674a19",
   "metadata": {},
   "outputs": [
    {
     "name": "stderr",
     "output_type": "stream",
     "text": [
      "Batch:: 100%|█████████████████████████████████████████████████████████████████████████████| 1/1 [00:36<00:00, 36.99s/it]\n"
     ]
    }
   ],
   "source": [
    "#| export\n",
    "label_list = None\n",
    "for batch in tqdm(range(BATCH_SIZE, MAX_LEN, BATCH_SIZE), desc=\"Batch:\"):\n",
    "    # Define o intervalo de carregamento dos dados\n",
    "    start, end = define_range(batch, BATCH_SIZE, MAX_LEN)\n",
    "    # Define as listas contendo os nomes dos arquivos\n",
    "    velodyne_list = sorted(os.listdir(VELODYNE_PATH))[start:end]\n",
    "    if LABEL_PATH != None:\n",
    "        label_list = sorted(os.listdir(LABEL_PATH))[start:end]\n",
    "    # Carrega os dados \n",
    "    point_cloud = data.load_data(VELODYNE_PATH, velodyne_list, LABEL_PATH, label_list)\n",
    "    # Realiza a projeção esférica\n",
    "    projection_dict = do_projection(point_cloud)\n",
    "    # Cria e salva as imagens\n",
    "    create_images(projection_dict)"
   ]
  },
  {
   "cell_type": "code",
   "execution_count": 10,
   "id": "fe120382-7f69-42a6-9e36-1e64a66a05b4",
   "metadata": {},
   "outputs": [],
   "source": [
    "#| hide\n",
    "import nbdev; nbdev.nbdev_export()"
   ]
  }
 ],
 "metadata": {
  "kernelspec": {
   "display_name": "Python 3 (ipykernel)",
   "language": "python",
   "name": "python3"
  },
  "language_info": {
   "codemirror_mode": {
    "name": "ipython",
    "version": 3
   },
   "file_extension": ".py",
   "mimetype": "text/x-python",
   "name": "python",
   "nbconvert_exporter": "python",
   "pygments_lexer": "ipython3",
   "version": "3.10.12"
  }
 },
 "nbformat": 4,
 "nbformat_minor": 5
}
