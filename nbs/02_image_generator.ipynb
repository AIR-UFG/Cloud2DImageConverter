{
 "cells": [
  {
   "cell_type": "markdown",
   "id": "3fbdec7d-0909-45a1-9eed-157b0ba058ac",
   "metadata": {},
   "source": [
    "# Image Generator"
   ]
  },
  {
   "cell_type": "code",
   "execution_count": null,
   "id": "4b2c9edb-a25c-4df2-b3e4-d3f767e08a4f",
   "metadata": {},
   "outputs": [],
   "source": [
    "#| default_exp image_generator"
   ]
  },
  {
   "cell_type": "code",
   "execution_count": null,
   "id": "889fdf70-0f99-4c48-a857-d478b89fbb74",
   "metadata": {},
   "outputs": [],
   "source": [
    "#| export\n",
    "from Cloud2DImageConverter import spherical_projection as sp\n",
    "from Cloud2DImageConverter import data\n",
    "from matplotlib import pyplot as plt\n",
    "from tqdm import tqdm\n",
    "from PIL import Image\n",
    "import numpy as np\n",
    "import shutil\n",
    "import time\n",
    "import os"
   ]
  },
  {
   "cell_type": "code",
   "execution_count": null,
   "id": "fd9c9088-e4a1-4ee4-886a-59ef49925f56",
   "metadata": {},
   "outputs": [],
   "source": [
    "#| export\n",
    "FOLDER_PATH = \"../point_clouds/semantic_kitti/\"\n",
    "VELODYNE_PATH = FOLDER_PATH+\"velodyne\"\n",
    "LABEL_PATH = FOLDER_PATH+\"labels\"\n",
    "RESULTS_FOLDER =  \"../results/\"\n",
    "\n",
    "BATCH_SIZE = 500\n",
    "MAX_LEN = len(os.listdir(VELODYNE_PATH))"
   ]
  },
  {
   "cell_type": "code",
   "execution_count": null,
   "id": "2b46a65a-d860-4a1f-ab0c-446c59d8bbed",
   "metadata": {},
   "outputs": [],
   "source": [
    "#| export\n",
    "if os.path.exists(RESULTS_FOLDER):\n",
    "    shutil.rmtree(RESULTS_FOLDER)\n",
    "    \n",
    "os.makedirs(RESULTS_FOLDER)\n",
    "os.makedirs(RESULTS_FOLDER+\"/projections\")\n",
    "os.makedirs(RESULTS_FOLDER+\"/labels\")"
   ]
  },
  {
   "cell_type": "code",
   "execution_count": null,
   "id": "c7e7ab41-7f30-4705-88ae-d58315dc11c7",
   "metadata": {},
   "outputs": [],
   "source": [
    "#| export\n",
    "def define_range(batch, batch_size, max_len):\n",
    "    start = batch - batch_size\n",
    "    end = batch\n",
    "    if (max_len - batch) < batch_size:\n",
    "        end = max_len\n",
    "    return start, end"
   ]
  },
  {
   "cell_type": "code",
   "execution_count": null,
   "id": "a7b5c1b6-c7e9-422f-a12f-6b4f9c398079",
   "metadata": {},
   "outputs": [],
   "source": [
    "#| export\n",
    "def do_projection(point_cloud):\n",
    "    projection_dict = {\"reflectance\": [],\"label\": [], \"depth\": []}\n",
    "    for points in point_cloud:\n",
    "        unlabaled, labaled, depth = sp.spherical_projection(points)\n",
    "        labaled = sp.colored_matrix_with_label(labaled)\n",
    "        projection_dict[\"reflectance\"].append(unlabaled)\n",
    "        projection_dict[\"label\"].append(labaled)\n",
    "        projection_dict[\"depth\"].append(depth)\n",
    "    return projection_dict"
   ]
  },
  {
   "cell_type": "code",
   "execution_count": null,
   "id": "d3bd9cac-c043-4e2d-8a1c-c5b2d014cc2d",
   "metadata": {},
   "outputs": [],
   "source": [
    "#| export\n",
    "def save_image(matrix, save_path):\n",
    "    img = Image.fromarray(matrix)\n",
    "    final_path = os.path.join(RESULTS_FOLDER+save_path)\n",
    "    file_number = len(os.listdir(final_path)) + 1\n",
    "    file_name = f\"{final_path}/{file_number:06d}.png\"\n",
    "    img.save(file_name)\n",
    "\n",
    "def create_images(projection_dict):\n",
    "    # Itera sobre cada posição do dicionário agrupando junto as matrizes de mesmo indice\n",
    "    for zip_dict in zip(projection_dict[\"reflectance\"], projection_dict[\"label\"], projection_dict[\"depth\"]):\n",
    "        # Alterna entre as chaves e os indices respectivos a cada chave\n",
    "        aux_dict = {}\n",
    "        for index, key in enumerate(projection_dict.keys()):\n",
    "            matrix = zip_dict[index]\n",
    "            if key != \"label\":\n",
    "                norm_matrix = ((matrix - matrix.min()) / (matrix.max() - matrix.min())) * 255\n",
    "                matrix = norm_matrix.astype(np.uint8)\n",
    "            aux_dict[key] = matrix\n",
    "        black_matrix = np.zeros((64, 1024), dtype=np.uint8)\n",
    "        aux_dict[\"final_matrix\"] = np.dstack((np.array(aux_dict[\"reflectance\"]), np.array(aux_dict[\"depth\"]), black_matrix))\n",
    "        save_image(aux_dict[\"final_matrix\"], \"/projections\")\n",
    "        save_image(aux_dict[\"label\"], \"/labels\")"
   ]
  },
  {
   "cell_type": "code",
   "execution_count": null,
   "id": "2a6f75b1-644d-40db-bba2-22d268674a19",
   "metadata": {},
   "outputs": [
    {
     "name": "stderr",
     "output_type": "stream",
     "text": [
      "Batch:: 100%|█████████████████████████████████████████████████████████████████| 5/5 [00:25<00:00,  5.08s/it]\n"
     ]
    }
   ],
   "source": [
    "#| export\n",
    "for batch in tqdm(range(BATCH_SIZE, MAX_LEN, BATCH_SIZE), desc=\"Batch:\"):\n",
    "    # Define o intervalo de carregamento dos dados\n",
    "    start, end = define_range(batch, BATCH_SIZE, MAX_LEN)\n",
    "    # Define as listas contendo os nomes dos arquivos\n",
    "    velodyne_list = sorted(os.listdir(VELODYNE_PATH))[start:end]\n",
    "    label_list = sorted(os.listdir(LABEL_PATH))[start:end]\n",
    "    # Carrega os dados \n",
    "    point_cloud = data.load_data(VELODYNE_PATH, LABEL_PATH, velodyne_list, label_list)\n",
    "    # Realiza a projeção esférica\n",
    "    projection_dict = do_projection(point_cloud)\n",
    "    # Cria e salva as imagens\n",
    "    create_images(projection_dict)"
   ]
  },
  {
   "cell_type": "code",
   "execution_count": null,
   "id": "fe120382-7f69-42a6-9e36-1e64a66a05b4",
   "metadata": {},
   "outputs": [],
   "source": [
    "#| hide\n",
    "import nbdev; nbdev.nbdev_export()"
   ]
  }
 ],
 "metadata": {
  "kernelspec": {
   "display_name": "python3",
   "language": "python",
   "name": "python3"
  }
 },
 "nbformat": 4,
 "nbformat_minor": 5
}
