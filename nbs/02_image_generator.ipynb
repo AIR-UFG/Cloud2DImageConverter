{
 "cells": [
  {
   "cell_type": "markdown",
   "id": "3fbdec7d-0909-45a1-9eed-157b0ba058ac",
   "metadata": {},
   "source": [
    "# Image Generator"
   ]
  },
  {
   "cell_type": "code",
   "execution_count": null,
   "id": "4b2c9edb-a25c-4df2-b3e4-d3f767e08a4f",
   "metadata": {},
   "outputs": [],
   "source": [
    "#| default_exp image_generator"
   ]
  },
  {
   "cell_type": "code",
   "execution_count": null,
   "id": "889fdf70-0f99-4c48-a857-d478b89fbb74",
   "metadata": {},
   "outputs": [],
   "source": [
    "#| eval:false\n",
    "from Cloud2DImageConverter import data as dt, spherical_projections as sp\n",
    "from matplotlib import pyplot as plt\n",
    "import numpy as np\n",
    "import shutil\n",
    "import time\n",
    "import os"
   ]
  },
  {
   "cell_type": "markdown",
   "id": "4cd754d0-13ca-47a6-ad5c-2b93538eb761",
   "metadata": {},
   "source": [
    "Carregando os dados"
   ]
  },
  {
   "cell_type": "code",
   "execution_count": null,
   "id": "e977c186-8789-4f36-a803-b49437afb108",
   "metadata": {},
   "outputs": [],
   "source": [
    "point_cloud = dt.load_data(\"../point_clouds/semantic_kitti\")"
   ]
  },
  {
   "cell_type": "markdown",
   "id": "0f9b6e80-5c8e-433e-bfd5-bafc7d61bf94",
   "metadata": {},
   "source": [
    "Gerando as projeções\n",
    "* ronny_dict: Ronny Restrepo http://ronny.rest/blog/post_2017_03_25_lidar_to_2d/\r",
    "* rogerio_dict: Rogério https://github.com/alunos-pfc/Spherical-Projection-SemanticKITTI\r\n"
   ]
  },
  {
   "cell_type": "code",
   "execution_count": null,
   "id": "e8cc9347-1d97-4732-b705-981d827a600b",
   "metadata": {},
   "outputs": [],
   "source": [
    "ronny_dict = {\n",
    "    \"reflectance\": [],\n",
    "    \"label\": []\n",
    "}\n",
    "rogerio_dict = {\n",
    "    \"reflectance\": [],\n",
    "    \"label\": []\n",
    "}\n",
    "\n",
    "# Velodyne HDL 64E\n",
    "h_res = 0.35\n",
    "v_res = 0.4\n",
    "v_fov = (-24.9, 2.0)\n",
    "y_fudge = 5\n",
    "\n",
    "for points in point_cloud:\n",
    "    ronny_dict[\"reflectance\"].append(sp.spherical_projection_1(points, h_res, v_res, v_fov, y_fudge, val=\"reflectance\"))\n",
    "    ronny_dict[\"label\"].append(sp.spherical_projection_1(points, h_res, v_res, v_fov, y_fudge, val=\"label\"))\n",
    "\n",
    "    rows, cols, intensity, label = sp.spherical_projection_2(points)\n",
    "    no_label, with_label = sp.create_ImageMatrix(rows, cols, intensity, label)\n",
    "    rogerio_dict[\"reflectance\"].append(no_label)\n",
    "    rogerio_dict[\"label\"].append(with_label)"
   ]
  },
  {
   "cell_type": "code",
   "execution_count": null,
   "id": "b6e6d7fd-06dc-47bd-9150-0cb9da5ac732",
   "metadata": {},
   "outputs": [],
   "source": [
    "def mapping_colors(value_dict):\n",
    "    if value_dict[\"val\"] == \"reflectance\":\n",
    "        return value_dict[\"pixel_values\"]\n",
    "    colors = [color_map[label] for label in value_dict[\"pixel_values\"]]\n",
    "    return colors\n",
    "    \n",
    "color_map = dict(dt.color_map)\n",
    "for key in color_map.keys():\n",
    "    color_map[key] = [round(val/255, 2) for val in color_map[key]]"
   ]
  },
  {
   "cell_type": "code",
   "execution_count": null,
   "id": "fd7f8355-dd19-41b9-80a7-f9a83b16b0d3",
   "metadata": {},
   "outputs": [],
   "source": [
    "def ronny_image_generator(ronny_dict, output_folder, delete=True):\n",
    "    start_time = time.time() \n",
    "    ronny_folder = output_folder+\"ronny_images\"\n",
    "\n",
    "    # Se a pasta já existir, apague-a \n",
    "    if os.path.exists(ronny_folder) and delete:\n",
    "        shutil.rmtree(ronny_folder)\n",
    "    \n",
    "    if not os.path.exists(ronny_folder):\n",
    "        os.makedirs(ronny_folder)\n",
    "        os.makedirs(ronny_folder+\"/reflectance\")\n",
    "        os.makedirs(ronny_folder+\"/label\")\n",
    "\n",
    "    cmap = \"jet\"\n",
    "    dpi = 100\n",
    "    # Jutando os as listas de reflectância e label, agora zip_dict[0] = ronny_dict[\"reflectance\"]\n",
    "    for zip_dict in zip(ronny_dict[\"reflectance\"], ronny_dict[\"label\"]):\n",
    "        # Iterando entre ronny_dict[\"reflectance\"] e ronny_dict[\"label\"]\n",
    "        for value_dict in zip_dict:\n",
    "            fig, ax = plt.subplots(figsize=(value_dict[\"x_max\"]/dpi, value_dict[\"y_max\"]/dpi), dpi=dpi)\n",
    "            ax.scatter(value_dict[\"x_img\"],value_dict[\"y_img\"], s=1, c=mapping_colors(value_dict), linewidths=0, alpha=1)\n",
    "            ax.set_facecolor((0, 0, 0)) \n",
    "            ax.axis('scaled')              \n",
    "            ax.xaxis.set_visible(False)    \n",
    "            ax.yaxis.set_visible(False)    \n",
    "            plt.xlim([0, value_dict[\"x_max\"]])   \n",
    "            plt.ylim([0, value_dict[\"y_max\"]])  \n",
    "\n",
    "            # value_dict[\"val\"] é o valor de reflectance ou label\n",
    "            folder_type = \"/\" + value_dict[\"val\"]\n",
    "            \n",
    "            # Caminho final para salver\n",
    "            final_path = os.path.join(ronny_folder+folder_type)\n",
    "            \n",
    "            # Define o nome do arquivo, tais como 000001, 000002...\n",
    "            file_number = len(os.listdir(final_path)) + 1\n",
    "            file_name = f\"{final_path}/{file_number:06d}.png\"\n",
    "            \n",
    "            plt.savefig(file_name, bbox_inches='tight', pad_inches=0, format='png')\n",
    "            plt.close()\n",
    "\n",
    "    end_time = time.time()  # Registra o tempo de fim da execução\n",
    "    elapsed_time = end_time - start_time\n",
    "    print(f\"Tempo de execução: {elapsed_time} segundos\")\n",
    "\n",
    "ronny_image_generator(ronny_dict, output_folder=\"../point_clouds/\")"
   ]
  },
  {
   "cell_type": "code",
   "execution_count": null,
   "id": "9d818e67-29fd-48ea-a559-b7dba0a1cd9f",
   "metadata": {},
   "outputs": [],
   "source": [
    "def rogerio_image_generator(rogerio_dict, output_folder, delete=True):\n",
    "    start_time = time.time() \n",
    "    rogerio_folder =  output_folder+\"rogerio_images\"\n",
    "\n",
    "    # Se a pasta já existir, apague-a \n",
    "    if os.path.exists(rogerio_folder) and delete:\n",
    "        shutil.rmtree(rogerio_folder)\n",
    "        \n",
    "    os.makedirs(rogerio_folder)\n",
    "    os.makedirs(rogerio_folder+\"/reflectance\")\n",
    "    os.makedirs(rogerio_folder+\"/label\")\n",
    "\n",
    "    for zip_dict in zip(rogerio_dict[\"reflectance\"], rogerio_dict[\"label\"]):\n",
    "        for i, value in enumerate(rogerio_dict.keys()): \n",
    "            if value == \"reflectance\":\n",
    "                cmap = \"jet\"\n",
    "            else:\n",
    "                cmap = None\n",
    "                \n",
    "            fig, ax = plt.subplots(figsize=(10,5))\n",
    "            # Plote a primeira matriz no primeiro subplot\n",
    "            ax.imshow(zip_dict[i], cmap=cmap)\n",
    "            ax.xaxis.set_visible(False)    \n",
    "            ax.yaxis.set_visible(False)  \n",
    "\n",
    "            # dict[\"val\"] é o valor de reflectance ou label\n",
    "            folder_type = \"/\" + value\n",
    "\n",
    "            # Caminho final para salver\n",
    "            final_path = os.path.join(rogerio_folder+folder_type)\n",
    "\n",
    "            # Define o nome do arquivo, tais como 000001, 000002...\n",
    "            file_number = len(os.listdir(final_path)) + 1\n",
    "            file_name = f\"{final_path}/{file_number:06d}.png\"\n",
    "\n",
    "            plt.savefig(file_name, bbox_inches='tight', pad_inches=0, format='png')\n",
    "            plt.close()\n",
    "            \n",
    "    end_time = time.time()  # Registra o tempo de fim da execução\n",
    "    elapsed_time = end_time - start_time\n",
    "    print(f\"Tempo de execução: {elapsed_time} segundos\")\n",
    "\n",
    "rogerio_image_generator(rogerio_dict, output_folder=\"../point_clouds/\")"
   ]
  }
 ],
 "metadata": {
  "kernelspec": {
   "display_name": "python3",
   "language": "python",
   "name": "python3"
  }
 },
 "nbformat": 4,
 "nbformat_minor": 5
}
