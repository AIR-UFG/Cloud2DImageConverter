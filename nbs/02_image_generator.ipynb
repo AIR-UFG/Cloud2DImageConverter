{
 "cells": [
  {
   "cell_type": "markdown",
   "id": "3fbdec7d-0909-45a1-9eed-157b0ba058ac",
   "metadata": {},
   "source": [
    "# Image Generator"
   ]
  },
  {
   "cell_type": "code",
   "execution_count": null,
   "id": "4b2c9edb-a25c-4df2-b3e4-d3f767e08a4f",
   "metadata": {},
   "outputs": [],
   "source": [
    "#| default_exp image_generator"
   ]
  },
  {
   "cell_type": "code",
   "execution_count": null,
   "id": "889fdf70-0f99-4c48-a857-d478b89fbb74",
   "metadata": {},
   "outputs": [],
   "source": [
    "#| eval:false\n",
    "from Cloud2DImageConverter import spherical_projection as sp\n",
    "from Cloud2DImageConverter import data\n",
    "from matplotlib import pyplot as plt\n",
    "from PIL import Image\n",
    "import numpy as np\n",
    "import shutil\n",
    "import time\n",
    "import os"
   ]
  },
  {
   "cell_type": "markdown",
   "id": "4cd754d0-13ca-47a6-ad5c-2b93538eb761",
   "metadata": {},
   "source": [
    "Carregando os dados"
   ]
  },
  {
   "cell_type": "code",
   "execution_count": null,
   "id": "e977c186-8789-4f36-a803-b49437afb108",
   "metadata": {},
   "outputs": [],
   "source": [
    "#| eval:false\n",
    "point_cloud = data.load_data(\"../point_clouds/semantic_kitti\")"
   ]
  },
  {
   "cell_type": "markdown",
   "id": "0f9b6e80-5c8e-433e-bfd5-bafc7d61bf94",
   "metadata": {},
   "source": [
    "Gerando as projeções\r",
    "* https://github.com/alunos-pfc/Spherical-Projection-SemanticKITTI\r\n"
   ]
  },
  {
   "cell_type": "code",
   "execution_count": null,
   "id": "95830c7a-953d-4831-b89d-59256a5475fb",
   "metadata": {},
   "outputs": [],
   "source": [
    "#| eval:false\n",
    "projection_dict = {\n",
    "    \"reflectance\": [],\n",
    "    \"label\": []\n",
    "}\n",
    "\n",
    "for points in point_cloud:\n",
    "    unlabaled, labaled = sp.spherical_projection(points)\n",
    "    labaled = sp.colored_matrix_with_label(labaled)\n",
    "    projection_dict[\"reflectance\"].append(unlabaled)\n",
    "    projection_dict[\"label\"].append(labaled)"
   ]
  },
  {
   "cell_type": "code",
   "execution_count": null,
   "id": "246c5cde-5e2f-4c43-b743-e347ef7649ff",
   "metadata": {},
   "outputs": [
    {
     "name": "stdout",
     "output_type": "stream",
     "text": [
      "Tempo de execução: 5.677505731582642 segundos\n"
     ]
    }
   ],
   "source": [
    "#| eval:false\n",
    "def image_generator(projection_dict, output_folder, rows=64, cols=1024, delete=True):\n",
    "    start_time = time.time() \n",
    "    results_folder =  output_folder+\"results\"\n",
    "\n",
    "    # Se a pasta já existir, apague-a \n",
    "    if os.path.exists(results_folder) and delete:\n",
    "        shutil.rmtree(results_folder)\n",
    "        \n",
    "    os.makedirs(results_folder)\n",
    "    os.makedirs(results_folder+\"/reflectance\")\n",
    "    os.makedirs(results_folder+\"/label\")\n",
    "\n",
    "    for zip_dict in zip(projection_dict[\"reflectance\"], projection_dict[\"label\"]):\n",
    "        for i, value in enumerate(projection_dict.keys()): \n",
    "            # Aplica o cmap manualmente \n",
    "            if value == \"reflectance\":\n",
    "                img = zip_dict[i]\n",
    "                cmap = plt.get_cmap(\"jet\")\n",
    "                img = (cmap(img)*255).astype(np.uint8)\n",
    "                img = Image.fromarray(img)\n",
    "            else:\n",
    "                img = Image.fromarray(zip_dict[i])\n",
    "                \n",
    "            # dict[\"val\"] é o valor de reflectance ou label\n",
    "            folder_type = \"/\" + value\n",
    "\n",
    "            # Caminho final para salvar\n",
    "            final_path = os.path.join(results_folder+folder_type)\n",
    "\n",
    "            # Define o nome do arquivo, tais como 000001, 000002...\n",
    "            file_number = len(os.listdir(final_path)) + 1\n",
    "            file_name = f\"{final_path}/{file_number:06d}.png\"\n",
    "\n",
    "            img.save(file_name)\n",
    "\n",
    "    # Registra o tempo de fim da execução\n",
    "    end_time = time.time() \n",
    "    elapsed_time = end_time - start_time\n",
    "    print(f\"Tempo de execução: {elapsed_time} segundos\")\n",
    "\n",
    "image_generator(projection_dict, output_folder=\"../point_clouds/\")"
   ]
  }
 ],
 "metadata": {
  "kernelspec": {
   "display_name": "python3",
   "language": "python",
   "name": "python3"
  }
 },
 "nbformat": 4,
 "nbformat_minor": 5
}
