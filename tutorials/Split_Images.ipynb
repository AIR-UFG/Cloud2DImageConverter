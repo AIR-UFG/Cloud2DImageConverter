{
 "cells": [
  {
   "cell_type": "markdown",
   "id": "a4ee8709-4706-46fa-9bfa-ef21f4a5a058",
   "metadata": {},
   "source": [
    "This notebook splits a 64x1024 image into four 16x1024 images across 5 frames using reflectance, depth and segmentation mask data. "
   ]
  },
  {
   "cell_type": "code",
   "execution_count": null,
   "id": "14d8ee4c-b586-4ae4-bcae-8ba837163bd1",
   "metadata": {},
   "outputs": [],
   "source": [
    "from Cloud2DImageConverter import api\n",
    "from PIL import Image\n",
    "import shutil\n",
    "import os"
   ]
  },
  {
   "cell_type": "code",
   "execution_count": null,
   "id": "b1922e30-1890-4108-a23f-03483b142def",
   "metadata": {},
   "outputs": [],
   "source": [
    "if not os.path.exists(\"results/\"):\n",
    "    os.makedirs(\"results/\")"
   ]
  },
  {
   "cell_type": "code",
   "execution_count": null,
   "id": "44bd88f9-58d5-42d1-929f-f890506b6714",
   "metadata": {},
   "outputs": [],
   "source": [
    "# delete the folder if it exists\n",
    "if os.path.exists(\"results/splited_images\"):\n",
    "    shutil.rmtree(\"results/splited_images\")\n",
    "else:\n",
    "    os.makedirs(\"results/splited_images\")"
   ]
  },
  {
   "cell_type": "code",
   "execution_count": null,
   "id": "c44297d4-0eeb-43a2-8cd1-ee5def476677",
   "metadata": {},
   "outputs": [],
   "source": [
    "features_list = [\"reflectance\", \"depth\", \"segmentation_mask\"]\n",
    "images = {}\n",
    "for feature in features_list:\n",
    "    for index in range(1, 6):\n",
    "        # loading the images and performing the split\n",
    "        img = Image.open(f\"results/{feature}/{index:06d}.png\")\n",
    "        images[\"1\"], images[\"2\"], images[\"3\"], images[\"4\"] = api.split_image(img)\n",
    "\n",
    "        # coloring the images when they're from the segmentation_mask\n",
    "        if feature == \"segmentation_mask\":\n",
    "            for key in images.keys():\n",
    "                matrix = api.color_matrix(images[key])\n",
    "                images[key] = Image.fromarray(matrix)\n",
    "\n",
    "        # saving the four images in their respective frame folders\n",
    "        os.makedirs(f\"results/splited_images/{feature}/frame_{index:02d}\")\n",
    "        images[\"1\"].save(f\"results/splited_images/{feature}/frame_{index:02d}/img_1.png\")\n",
    "        images[\"2\"].save(f\"results/splited_images/{feature}/frame_{index:02d}/img_2.png\")\n",
    "        images[\"3\"].save(f\"results/splited_images/{feature}/frame_{index:02d}/img_3.png\")\n",
    "        images[\"4\"].save(f\"results/splited_images/{feature}/frame_{index:02d}/img_4.png\")"
   ]
  }
 ],
 "metadata": {
  "kernelspec": {
   "display_name": "python3",
   "language": "python",
   "name": "python3"
  }
 },
 "nbformat": 4,
 "nbformat_minor": 5
}
